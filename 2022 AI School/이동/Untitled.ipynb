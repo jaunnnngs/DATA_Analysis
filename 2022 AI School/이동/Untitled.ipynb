{
 "cells": [
  {
   "cell_type": "code",
   "execution_count": 1,
   "id": "8f845ca6",
   "metadata": {},
   "outputs": [
    {
     "ename": "ModuleNotFoundError",
     "evalue": "No module named 'mataplotlib'",
     "output_type": "error",
     "traceback": [
      "\u001b[0;31m---------------------------------------------------------------------------\u001b[0m",
      "\u001b[0;31mModuleNotFoundError\u001b[0m                       Traceback (most recent call last)",
      "Input \u001b[0;32mIn [1]\u001b[0m, in \u001b[0;36m<cell line: 2>\u001b[0;34m()\u001b[0m\n\u001b[1;32m      1\u001b[0m \u001b[38;5;28;01mimport\u001b[39;00m \u001b[38;5;21;01mpandas\u001b[39;00m \u001b[38;5;28;01mas\u001b[39;00m \u001b[38;5;21;01mpd\u001b[39;00m\n\u001b[0;32m----> 2\u001b[0m \u001b[38;5;28;01mimport\u001b[39;00m \u001b[38;5;21;01mmataplotlib\u001b[39;00m\u001b[38;5;21;01m.\u001b[39;00m\u001b[38;5;21;01mpylot\u001b[39;00m \u001b[38;5;28;01mas\u001b[39;00m \u001b[38;5;21;01mplt\u001b[39;00m\n\u001b[1;32m      3\u001b[0m \u001b[38;5;28;01mfrom\u001b[39;00m \u001b[38;5;21;01mscipy\u001b[39;00m \u001b[38;5;28;01mimport\u001b[39;00m stats\n",
      "\u001b[0;31mModuleNotFoundError\u001b[0m: No module named 'mataplotlib'"
     ]
    }
   ],
   "source": [
    "import pandas as pd\n",
    "import mataplotlib.pylot as plt\n",
    "from scipy import stats\n"
   ]
  },
  {
   "cell_type": "code",
   "execution_count": null,
   "id": "5a15b7ff",
   "metadata": {},
   "outputs": [],
   "source": [
    "pip install pandas"
   ]
  },
  {
   "cell_type": "code",
   "execution_count": null,
   "id": "da1cf84f",
   "metadata": {},
   "outputs": [],
   "source": [
    "session_times = pd.read_csv('web_session_time.csv')\n",
    "session_times.head()"
   ]
  },
  {
   "cell_type": "code",
   "execution_count": null,
   "id": "9a5e767f",
   "metadata": {},
   "outputs": [],
   "source": []
  },
  {
   "cell_type": "code",
   "execution_count": null,
   "id": "ac13c2cf",
   "metadata": {},
   "outputs": [],
   "source": [
    "# 귀무가설: Page A, B 에 띠리 평균세션타임이 변하지 않는다 A=B\n",
    "# 대립가설: Page A 사용시 Page B 보다 평균 세션 타임이 짧다 A<B\n",
    "\n",
    "t_statistic, p_vlaue= stats.ttest_ind(\n",
    "    session_times[session_times['Page']=='Page A']['Time'],\n",
    "    session_times[session_times['Page']=='Page A']['Time'])"
   ]
  },
  {
   "cell_type": "code",
   "execution_count": null,
   "id": "d3b45d7f",
   "metadata": {},
   "outputs": [],
   "source": [
    "print(f'p-value for two-tail test',p_value)\n",
    "print(f'p-value for two-tail test',p_value/2)"
   ]
  },
  {
   "cell_type": "code",
   "execution_count": null,
   "id": "64f8f46f",
   "metadata": {},
   "outputs": [],
   "source": [
    "#Page 에 따른 time의 분포 시각화"
   ]
  },
  {
   "cell_type": "code",
   "execution_count": null,
   "id": "146ce5a2",
   "metadata": {},
   "outputs": [],
   "source": [
    "four_sessions = pd.read_csv('four_sessions.csv')\n",
    "four_sessions.head()"
   ]
  },
  {
   "cell_type": "code",
   "execution_count": null,
   "id": "d88a0226",
   "metadata": {},
   "outputs": [],
   "source": [
    "four_sessions.boxplot(by='Page')\n",
    "plt"
   ]
  },
  {
   "cell_type": "code",
   "execution_count": null,
   "id": "ba3c5d81",
   "metadata": {},
   "outputs": [],
   "source": [
    "import random"
   ]
  },
  {
   "cell_type": "code",
   "execution_count": null,
   "id": "c6eabf5c",
   "metadata": {},
   "outputs": [],
   "source": [
    "# 각 그룹(Page 1,2,3,4)의 평균(4개)의 분산\n",
    "obsercved_var=four_sessions.groupby('Page').mean().var()['Time']"
   ]
  },
  {
   "cell_type": "code",
   "execution_count": null,
   "id": "64ce909c",
   "metadata": {},
   "outputs": [],
   "source": [
    "def perm_anova(df)\n",
    "\n",
    "perm_vars=[]\n",
    "for _ in range(1000):\n",
    "    perm_vars=perm_anova(four_session.copy())\n",
    "    perm_vars.append(perm_var)"
   ]
  },
  {
   "cell_type": "code",
   "execution_count": null,
   "id": "1d06bca0",
   "metadata": {},
   "outputs": [],
   "source": [
    "fig, ax = plt.subplots(1, 1, figsize=(5, 5))\n",
    "ax.hist(perm_vars, bins=11, rwidth=0.9)\n",
    "ax.axvline(x=observed_var, color='black', lw=2)\n",
    "ax.text(60, 200, 'Observed\\nvariance', bbox={'facecolor':'white'})\n",
    "ax.set_ylabel('Frequency')\n",
    "ax.set_xlabel('Variance')\n",
    "plt.show()"
   ]
  },
  {
   "cell_type": "code",
   "execution_count": null,
   "id": "879a4bcd",
   "metadata": {},
   "outputs": [],
   "source": [
    "pip install statsmodels"
   ]
  },
  {
   "cell_type": "code",
   "execution_count": 3,
   "id": "19bcfe42",
   "metadata": {},
   "outputs": [],
   "source": [
    "import statsmodels.api as sm\n",
    "import statsmodels.formula.api as smf"
   ]
  },
  {
   "cell_type": "code",
   "execution_count": 4,
   "id": "01efa49a",
   "metadata": {},
   "outputs": [
    {
     "ename": "NameError",
     "evalue": "name 'four_sessions' is not defined",
     "output_type": "error",
     "traceback": [
      "\u001b[0;31m---------------------------------------------------------------------------\u001b[0m",
      "\u001b[0;31mNameError\u001b[0m                                 Traceback (most recent call last)",
      "Input \u001b[0;32mIn [4]\u001b[0m, in \u001b[0;36m<cell line: 1>\u001b[0;34m()\u001b[0m\n\u001b[0;32m----> 1\u001b[0m model \u001b[38;5;241m=\u001b[39m smf\u001b[38;5;241m.\u001b[39mols(\u001b[38;5;124m'\u001b[39m\u001b[38;5;124mTime ~ Page\u001b[39m\u001b[38;5;124m'\u001b[39m, data \u001b[38;5;241m=\u001b[39m \u001b[43mfour_sessions\u001b[49m)\u001b[38;5;241m.\u001b[39mfit()\n",
      "\u001b[0;31mNameError\u001b[0m: name 'four_sessions' is not defined"
     ]
    }
   ],
   "source": [
    "model = smf.ols('Time ~ Page', data = four_sessions).fit()\n"
   ]
  },
  {
   "cell_type": "code",
   "execution_count": null,
   "id": "ee16ebb7",
   "metadata": {},
   "outputs": [],
   "source": [
    "anova_table=sm.stats.anova_im(model)\n",
    "anova_table"
   ]
  }
 ],
 "metadata": {
  "kernelspec": {
   "display_name": "Python 3 (ipykernel)",
   "language": "python",
   "name": "python3"
  },
  "language_info": {
   "codemirror_mode": {
    "name": "ipython",
    "version": 3
   },
   "file_extension": ".py",
   "mimetype": "text/x-python",
   "name": "python",
   "nbconvert_exporter": "python",
   "pygments_lexer": "ipython3",
   "version": "3.9.12"
  }
 },
 "nbformat": 4,
 "nbformat_minor": 5
}
