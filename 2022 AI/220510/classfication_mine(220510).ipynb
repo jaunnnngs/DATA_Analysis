{
 "cells": [
  {
   "cell_type": "code",
   "execution_count": 38,
   "id": "7f90567d",
   "metadata": {},
   "outputs": [],
   "source": [
    "import pandas as pd\n",
    "import matplotlib.pyplot as plt"
   ]
  },
  {
   "cell_type": "code",
   "execution_count": 39,
   "id": "8a29535f",
   "metadata": {},
   "outputs": [
    {
     "name": "stdout",
     "output_type": "stream",
     "text": [
      "(400, 5)\n"
     ]
    },
    {
     "data": {
      "text/html": [
       "<div>\n",
       "<style scoped>\n",
       "    .dataframe tbody tr th:only-of-type {\n",
       "        vertical-align: middle;\n",
       "    }\n",
       "\n",
       "    .dataframe tbody tr th {\n",
       "        vertical-align: top;\n",
       "    }\n",
       "\n",
       "    .dataframe thead th {\n",
       "        text-align: right;\n",
       "    }\n",
       "</style>\n",
       "<table border=\"1\" class=\"dataframe\">\n",
       "  <thead>\n",
       "    <tr style=\"text-align: right;\">\n",
       "      <th></th>\n",
       "      <th>User ID</th>\n",
       "      <th>Gender</th>\n",
       "      <th>Age</th>\n",
       "      <th>EstimatedSalary</th>\n",
       "      <th>Purchased</th>\n",
       "    </tr>\n",
       "  </thead>\n",
       "  <tbody>\n",
       "    <tr>\n",
       "      <th>0</th>\n",
       "      <td>15624510</td>\n",
       "      <td>Male</td>\n",
       "      <td>19</td>\n",
       "      <td>19000</td>\n",
       "      <td>0</td>\n",
       "    </tr>\n",
       "    <tr>\n",
       "      <th>1</th>\n",
       "      <td>15810944</td>\n",
       "      <td>Male</td>\n",
       "      <td>35</td>\n",
       "      <td>20000</td>\n",
       "      <td>0</td>\n",
       "    </tr>\n",
       "    <tr>\n",
       "      <th>2</th>\n",
       "      <td>15668575</td>\n",
       "      <td>Female</td>\n",
       "      <td>26</td>\n",
       "      <td>43000</td>\n",
       "      <td>0</td>\n",
       "    </tr>\n",
       "    <tr>\n",
       "      <th>3</th>\n",
       "      <td>15603246</td>\n",
       "      <td>Female</td>\n",
       "      <td>27</td>\n",
       "      <td>57000</td>\n",
       "      <td>0</td>\n",
       "    </tr>\n",
       "    <tr>\n",
       "      <th>4</th>\n",
       "      <td>15804002</td>\n",
       "      <td>Male</td>\n",
       "      <td>19</td>\n",
       "      <td>76000</td>\n",
       "      <td>0</td>\n",
       "    </tr>\n",
       "  </tbody>\n",
       "</table>\n",
       "</div>"
      ],
      "text/plain": [
       "    User ID  Gender  Age  EstimatedSalary  Purchased\n",
       "0  15624510    Male   19            19000          0\n",
       "1  15810944    Male   35            20000          0\n",
       "2  15668575  Female   26            43000          0\n",
       "3  15603246  Female   27            57000          0\n",
       "4  15804002    Male   19            76000          0"
      ]
     },
     "execution_count": 39,
     "metadata": {},
     "output_type": "execute_result"
    }
   ],
   "source": [
    "df = pd.read_csv('purchase.csv')\n",
    "print(df.shape)\n",
    "df.head()\n",
    "# Y: Purchased - 1 (구매), 0 (구매 x)\n",
    "# X: 성별, 나이, 수익(연봉)"
   ]
  },
  {
   "cell_type": "code",
   "execution_count": 40,
   "id": "b3ac3c74",
   "metadata": {},
   "outputs": [
    {
     "name": "stdout",
     "output_type": "stream",
     "text": [
      "구매한 남성: 66, 여성: 77\n",
      "구매한지 않은 남성: 130, 여성: 127\n"
     ]
    }
   ],
   "source": [
    "# 구매 여부에 따른 남녀 수\n",
    "cond1 = df[\"Purchased\"] == 1 # 구매한 사람\n",
    "cond2 = df['Gender'] == 'Male' # 남자\n",
    "\n",
    "\n",
    "\n",
    "print(f'구매한 남성: {len(df[cond1 & cond2])}, 여성: {len(df[cond1 & ~cond2])}')\n",
    "print(f'구매한지 않은 남성: {len(df[~cond1 & cond2])}, 여성: {len(df[~cond1 & ~cond2])}')"
   ]
  },
  {
   "cell_type": "code",
   "execution_count": 41,
   "id": "2a13815d",
   "metadata": {},
   "outputs": [
    {
     "data": {
      "image/png": "[encoded data removed]",
      "text/plain": [
       "<Figure size 432x432 with 1 Axes>"
      ]
     },
     "metadata": {
      "needs_background": "light"
     },
     "output_type": "display_data"
    }
   ],
   "source": [
    "# 구매 여부에 따른 나이 분포\n",
    "fig, ax = plt.subplots(1, 1, figsize=(6, 6))\n",
    "\n",
    "\n",
    "\n",
    "df[cond1]['Age'].hist(density=True, color='teal', alpha=0.6, ax = ax)\n",
    "df[~cond1]['Age'].hist(density=True, color='orange', alpha=0.6, ax = ax)\n",
    "plt.show()"
   ]
  },
  {
   "cell_type": "code",
   "execution_count": 42,
   "id": "09137bd6",
   "metadata": {},
   "outputs": [
    {
     "data": {
      "image/png": "[encoded data removed]",
      "text/plain": [
       "<Figure size 432x432 with 1 Axes>"
      ]
     },
     "metadata": {
      "needs_background": "light"
     },
     "output_type": "display_data"
    }
   ],
   "source": [
    "# 구매 여부에 따른 연봉 차이\n",
    "fig, ax = plt.subplots(1, 1, figsize=(6, 6))\n",
    "\n",
    "\n",
    "\n",
    "df[cond1]['EstimatedSalary'].hist(density=True, color='teal', alpha=0.6, ax = ax)\n",
    "df[~cond1]['EstimatedSalary'].hist(density=True, color='orange', alpha=0.6, ax = ax)\n",
    "plt.show()"
   ]
  },
  {
   "cell_type": "code",
   "execution_count": 31,
   "id": "5b979ad9",
   "metadata": {},
   "outputs": [],
   "source": [
    "#sklearn을 사용해 logistic regression 구현"
   ]
  },
  {
   "cell_type": "code",
   "execution_count": 32,
   "id": "1374d495",
   "metadata": {},
   "outputs": [],
   "source": [
    "from sklearn.linear_model import LogisticRegression"
   ]
  },
  {
   "cell_type": "code",
   "execution_count": 129,
   "id": "3689b9c2",
   "metadata": {},
   "outputs": [
    {
     "data": {
      "text/html": [
       "<div>\n",
       "<style scoped>\n",
       "    .dataframe tbody tr th:only-of-type {\n",
       "        vertical-align: middle;\n",
       "    }\n",
       "\n",
       "    .dataframe tbody tr th {\n",
       "        vertical-align: top;\n",
       "    }\n",
       "\n",
       "    .dataframe thead th {\n",
       "        text-align: right;\n",
       "    }\n",
       "</style>\n",
       "<table border=\"1\" class=\"dataframe\">\n",
       "  <thead>\n",
       "    <tr style=\"text-align: right;\">\n",
       "      <th></th>\n",
       "      <th>User ID</th>\n",
       "      <th>Gender</th>\n",
       "      <th>Age</th>\n",
       "      <th>EstimatedSalary</th>\n",
       "      <th>Purchased</th>\n",
       "    </tr>\n",
       "  </thead>\n",
       "  <tbody>\n",
       "    <tr>\n",
       "      <th>0</th>\n",
       "      <td>15624510</td>\n",
       "      <td>1</td>\n",
       "      <td>19</td>\n",
       "      <td>19000</td>\n",
       "      <td>0</td>\n",
       "    </tr>\n",
       "    <tr>\n",
       "      <th>1</th>\n",
       "      <td>15810944</td>\n",
       "      <td>1</td>\n",
       "      <td>35</td>\n",
       "      <td>20000</td>\n",
       "      <td>0</td>\n",
       "    </tr>\n",
       "    <tr>\n",
       "      <th>2</th>\n",
       "      <td>15668575</td>\n",
       "      <td>0</td>\n",
       "      <td>26</td>\n",
       "      <td>43000</td>\n",
       "      <td>0</td>\n",
       "    </tr>\n",
       "    <tr>\n",
       "      <th>3</th>\n",
       "      <td>15603246</td>\n",
       "      <td>0</td>\n",
       "      <td>27</td>\n",
       "      <td>57000</td>\n",
       "      <td>0</td>\n",
       "    </tr>\n",
       "    <tr>\n",
       "      <th>4</th>\n",
       "      <td>15804002</td>\n",
       "      <td>1</td>\n",
       "      <td>19</td>\n",
       "      <td>76000</td>\n",
       "      <td>0</td>\n",
       "    </tr>\n",
       "  </tbody>\n",
       "</table>\n",
       "</div>"
      ],
      "text/plain": [
       "    User ID  Gender  Age  EstimatedSalary  Purchased\n",
       "0  15624510       1   19            19000          0\n",
       "1  15810944       1   35            20000          0\n",
       "2  15668575       0   26            43000          0\n",
       "3  15603246       0   27            57000          0\n",
       "4  15804002       1   19            76000          0"
      ]
     },
     "execution_count": 129,
     "metadata": {},
     "output_type": "execute_result"
    }
   ],
   "source": [
    "df['Gender'] = df['Gender'].apply(lambda x:1 if x == 'Male' else 0)\n",
    "df.head()"
   ]
  },
  {
   "cell_type": "code",
   "execution_count": 130,
   "id": "4d3723bf",
   "metadata": {},
   "outputs": [],
   "source": [
    "Xs = df[['Gender', 'Age', 'EstimatedSalary']]\n",
    "Y = df['Purchased']\n",
    "\n",
    "\n",
    "\n",
    "logit_reg = LogisticRegression().fit(Xs, Y)"
   ]
  },
  {
   "cell_type": "code",
   "execution_count": 131,
   "id": "ac1aad18",
   "metadata": {},
   "outputs": [
    {
     "name": "stdout",
     "output_type": "stream",
     "text": [
      "[[-1.31721757e-10 -2.10415187e-09 -2.69301405e-06]]\n",
      "[-2.2494472e-10]\n",
      "[0 1]\n"
     ]
    }
   ],
   "source": [
    "print(logit_reg.coef_)\n",
    "print(logit_reg.intercept_)\n",
    "print(logit_reg.classes_)"
   ]
  },
  {
   "cell_type": "code",
   "execution_count": 132,
   "id": "f14b52c9",
   "metadata": {},
   "outputs": [
    {
     "data": {
      "text/plain": [
       "0.6425"
      ]
     },
     "execution_count": 132,
     "metadata": {},
     "output_type": "execute_result"
    }
   ],
   "source": [
    "sum(logit_reg.predict(Xs)  == Y)/len(Y) #accuracy 정확도 확인"
   ]
  },
  {
   "cell_type": "code",
   "execution_count": 46,
   "id": "a7e562bb",
   "metadata": {},
   "outputs": [
    {
     "data": {
      "text/plain": [
       "array([[ 1.02020406, -1.78179743, -1.49004624],\n",
       "       [ 1.02020406, -0.25358736, -1.46068138],\n",
       "       [-0.98019606, -1.11320552, -0.78528968],\n",
       "       ...,\n",
       "       [-0.98019606,  1.17910958, -1.46068138],\n",
       "       [ 1.02020406, -0.15807423, -1.07893824],\n",
       "       [-0.98019606,  1.08359645, -0.99084367]])"
      ]
     },
     "execution_count": 46,
     "metadata": {},
     "output_type": "execute_result"
    }
   ],
   "source": [
    "#독립변수 간 스케일 차이로 학습 실패\n",
    "from sklearn.preprocessing import StandardScaler\n",
    "\n",
    "sc = StandardScaler() # (X-mean)/std Z스코어??\n",
    "Xs = sc.fit_transform(Xs)\n",
    "Xs"
   ]
  },
  {
   "cell_type": "code",
   "execution_count": 47,
   "id": "4cd47a10",
   "metadata": {},
   "outputs": [
    {
     "data": {
      "text/plain": [
       "LogisticRegression()"
      ]
     },
     "execution_count": 47,
     "metadata": {},
     "output_type": "execute_result"
    }
   ],
   "source": [
    "logit_reg.fit(Xs, Y)"
   ]
  },
  {
   "cell_type": "code",
   "execution_count": 54,
   "id": "541d29b0",
   "metadata": {},
   "outputs": [
    {
     "data": {
      "text/html": [
       "<div>\n",
       "<style scoped>\n",
       "    .dataframe tbody tr th:only-of-type {\n",
       "        vertical-align: middle;\n",
       "    }\n",
       "\n",
       "    .dataframe tbody tr th {\n",
       "        vertical-align: top;\n",
       "    }\n",
       "\n",
       "    .dataframe thead th {\n",
       "        text-align: right;\n",
       "    }\n",
       "</style>\n",
       "<table border=\"1\" class=\"dataframe\">\n",
       "  <thead>\n",
       "    <tr style=\"text-align: right;\">\n",
       "      <th></th>\n",
       "      <th>coef</th>\n",
       "    </tr>\n",
       "  </thead>\n",
       "  <tbody>\n",
       "    <tr>\n",
       "      <th>gender</th>\n",
       "      <td>0.146125</td>\n",
       "    </tr>\n",
       "    <tr>\n",
       "      <th>age</th>\n",
       "      <td>2.292050</td>\n",
       "    </tr>\n",
       "    <tr>\n",
       "      <th>salary</th>\n",
       "      <td>1.147433</td>\n",
       "    </tr>\n",
       "  </tbody>\n",
       "</table>\n",
       "</div>"
      ],
      "text/plain": [
       "            coef\n",
       "gender  0.146125\n",
       "age     2.292050\n",
       "salary  1.147433"
      ]
     },
     "execution_count": 54,
     "metadata": {},
     "output_type": "execute_result"
    }
   ],
   "source": [
    "pd.DataFrame({'coef': logit_reg.coef_[0]},\n",
    "index = ['gender', 'age', 'salary'])"
   ]
  },
  {
   "cell_type": "code",
   "execution_count": 48,
   "id": "966d703c",
   "metadata": {},
   "outputs": [
    {
     "data": {
      "text/plain": [
       "0.8525"
      ]
     },
     "execution_count": 48,
     "metadata": {},
     "output_type": "execute_result"
    }
   ],
   "source": [
    "sum(logit_reg.predict(Xs) == Y)/len(Y)"
   ]
  },
  {
   "cell_type": "code",
   "execution_count": null,
   "id": "c6c87a35",
   "metadata": {},
   "outputs": [],
   "source": [
    "#sklearn 모델의 logistic regreesion 에서 predict 사용시 반환하는 값"
   ]
  },
  {
   "cell_type": "code",
   "execution_count": null,
   "id": "62b90fdb",
   "metadata": {},
   "outputs": [],
   "source": [
    "#predict(데이터셋)\n",
    "#predict_log_proba(데이터셋) #~inf +inf\n",
    "#predict_proba(데이터셋) #p"
   ]
  },
  {
   "cell_type": "code",
   "execution_count": 51,
   "id": "5b595490",
   "metadata": {},
   "outputs": [
    {
     "data": {
      "text/plain": [
       "array([-1.17783618e-03, -6.74466513e+00])"
      ]
     },
     "execution_count": 51,
     "metadata": {},
     "output_type": "execute_result"
    }
   ],
   "source": [
    "logit_reg.predict_log_proba(Xs)[0]"
   ]
  },
  {
   "cell_type": "code",
   "execution_count": 50,
   "id": "1dab70dc",
   "metadata": {},
   "outputs": [
    {
     "data": {
      "text/html": [
       "<div>\n",
       "<style scoped>\n",
       "    .dataframe tbody tr th:only-of-type {\n",
       "        vertical-align: middle;\n",
       "    }\n",
       "\n",
       "    .dataframe tbody tr th {\n",
       "        vertical-align: top;\n",
       "    }\n",
       "\n",
       "    .dataframe thead th {\n",
       "        text-align: right;\n",
       "    }\n",
       "</style>\n",
       "<table border=\"1\" class=\"dataframe\">\n",
       "  <thead>\n",
       "    <tr style=\"text-align: right;\">\n",
       "      <th></th>\n",
       "      <th>0</th>\n",
       "      <th>1</th>\n",
       "    </tr>\n",
       "  </thead>\n",
       "  <tbody>\n",
       "    <tr>\n",
       "      <th>count</th>\n",
       "      <td>400.000000</td>\n",
       "      <td>400.000000</td>\n",
       "    </tr>\n",
       "    <tr>\n",
       "      <th>mean</th>\n",
       "      <td>-0.832526</td>\n",
       "      <td>-1.931392</td>\n",
       "    </tr>\n",
       "    <tr>\n",
       "      <th>std</th>\n",
       "      <td>1.240442</td>\n",
       "      <td>1.765161</td>\n",
       "    </tr>\n",
       "    <tr>\n",
       "      <th>min</th>\n",
       "      <td>-6.193475</td>\n",
       "      <td>-6.969347</td>\n",
       "    </tr>\n",
       "    <tr>\n",
       "      <th>25%</th>\n",
       "      <td>-0.881405</td>\n",
       "      <td>-3.008570</td>\n",
       "    </tr>\n",
       "    <tr>\n",
       "      <th>50%</th>\n",
       "      <td>-0.317757</td>\n",
       "      <td>-1.301547</td>\n",
       "    </tr>\n",
       "    <tr>\n",
       "      <th>75%</th>\n",
       "      <td>-0.050624</td>\n",
       "      <td>-0.534777</td>\n",
       "    </tr>\n",
       "    <tr>\n",
       "      <th>max</th>\n",
       "      <td>-0.000941</td>\n",
       "      <td>-0.002045</td>\n",
       "    </tr>\n",
       "  </tbody>\n",
       "</table>\n",
       "</div>"
      ],
      "text/plain": [
       "                0           1\n",
       "count  400.000000  400.000000\n",
       "mean    -0.832526   -1.931392\n",
       "std      1.240442    1.765161\n",
       "min     -6.193475   -6.969347\n",
       "25%     -0.881405   -3.008570\n",
       "50%     -0.317757   -1.301547\n",
       "75%     -0.050624   -0.534777\n",
       "max     -0.000941   -0.002045"
      ]
     },
     "execution_count": 50,
     "metadata": {},
     "output_type": "execute_result"
    }
   ],
   "source": [
    "pred_logOdds = pd.DataFrame(logit_reg.predict_log_proba(Xs), columns = logit_reg.classes_)\n",
    "pred_logOdds.describe()"
   ]
  },
  {
   "cell_type": "code",
   "execution_count": 52,
   "id": "ac5ead12",
   "metadata": {},
   "outputs": [
    {
     "data": {
      "text/html": [
       "<div>\n",
       "<style scoped>\n",
       "    .dataframe tbody tr th:only-of-type {\n",
       "        vertical-align: middle;\n",
       "    }\n",
       "\n",
       "    .dataframe tbody tr th {\n",
       "        vertical-align: top;\n",
       "    }\n",
       "\n",
       "    .dataframe thead th {\n",
       "        text-align: right;\n",
       "    }\n",
       "</style>\n",
       "<table border=\"1\" class=\"dataframe\">\n",
       "  <thead>\n",
       "    <tr style=\"text-align: right;\">\n",
       "      <th></th>\n",
       "      <th>0</th>\n",
       "      <th>1</th>\n",
       "    </tr>\n",
       "  </thead>\n",
       "  <tbody>\n",
       "    <tr>\n",
       "      <th>count</th>\n",
       "      <td>400.000000</td>\n",
       "      <td>400.000000</td>\n",
       "    </tr>\n",
       "    <tr>\n",
       "      <th>mean</th>\n",
       "      <td>0.642500</td>\n",
       "      <td>0.357500</td>\n",
       "    </tr>\n",
       "    <tr>\n",
       "      <th>std</th>\n",
       "      <td>0.337467</td>\n",
       "      <td>0.337467</td>\n",
       "    </tr>\n",
       "    <tr>\n",
       "      <th>min</th>\n",
       "      <td>0.002043</td>\n",
       "      <td>0.000940</td>\n",
       "    </tr>\n",
       "    <tr>\n",
       "      <th>25%</th>\n",
       "      <td>0.414200</td>\n",
       "      <td>0.049364</td>\n",
       "    </tr>\n",
       "    <tr>\n",
       "      <th>50%</th>\n",
       "      <td>0.727809</td>\n",
       "      <td>0.272191</td>\n",
       "    </tr>\n",
       "    <tr>\n",
       "      <th>75%</th>\n",
       "      <td>0.950636</td>\n",
       "      <td>0.585800</td>\n",
       "    </tr>\n",
       "    <tr>\n",
       "      <th>max</th>\n",
       "      <td>0.999060</td>\n",
       "      <td>0.997957</td>\n",
       "    </tr>\n",
       "  </tbody>\n",
       "</table>\n",
       "</div>"
      ],
      "text/plain": [
       "                0           1\n",
       "count  400.000000  400.000000\n",
       "mean     0.642500    0.357500\n",
       "std      0.337467    0.337467\n",
       "min      0.002043    0.000940\n",
       "25%      0.414200    0.049364\n",
       "50%      0.727809    0.272191\n",
       "75%      0.950636    0.585800\n",
       "max      0.999060    0.997957"
      ]
     },
     "execution_count": 52,
     "metadata": {},
     "output_type": "execute_result"
    }
   ],
   "source": [
    "pred_p = pd.DataFrame(logit_reg.predict_proba(Xs), columns=logit_reg.classes_)\n",
    "pred_p.describe()"
   ]
  },
  {
   "cell_type": "code",
   "execution_count": null,
   "id": "0d258a1f",
   "metadata": {},
   "outputs": [],
   "source": [
    "#statsmodels 패키지를 사용해 모델을 구성하는 변수의 codf평가"
   ]
  },
  {
   "cell_type": "code",
   "execution_count": 56,
   "id": "c46ad217",
   "metadata": {},
   "outputs": [],
   "source": [
    "import statsmodels.api as sm"
   ]
  },
  {
   "cell_type": "code",
   "execution_count": 58,
   "id": "94a10f19",
   "metadata": {},
   "outputs": [],
   "source": [
    "Xs = pd.DataFrame(Xs, columns= ['gender', 'age', 'salary'])"
   ]
  },
  {
   "cell_type": "code",
   "execution_count": 60,
   "id": "f78e8050",
   "metadata": {},
   "outputs": [
    {
     "name": "stdout",
     "output_type": "stream",
     "text": [
      "                 Generalized Linear Model Regression Results                  \n",
      "==============================================================================\n",
      "Dep. Variable:              Purchased   No. Observations:                  400\n",
      "Model:                            GLM   Df Residuals:                      397\n",
      "Model Family:                Binomial   Df Model:                            2\n",
      "Link Function:                  Logit   Scale:                          1.0000\n",
      "Method:                          IRLS   Log-Likelihood:                -166.71\n",
      "Date:                Tue, 10 May 2022   Deviance:                       333.42\n",
      "Time:                        11:10:54   Pearson chi2:                     605.\n",
      "No. Iterations:                     6   Pseudo R-squ. (CS):             0.3752\n",
      "Covariance Type:            nonrobust                                         \n",
      "==============================================================================\n",
      "                 coef    std err          z      P>|z|      [0.025      0.975]\n",
      "------------------------------------------------------------------------------\n",
      "gender         0.0746      0.136      0.549      0.583      -0.192       0.341\n",
      "age            2.0227      0.217      9.318      0.000       1.597       2.448\n",
      "salary         1.0780      0.175      6.173      0.000       0.736       1.420\n",
      "==============================================================================\n"
     ]
    }
   ],
   "source": [
    "logit_reg_sm = sm.GLM(Y, Xs, family=sm.families.Binomial())#logistic regression 모델을 나타내는 parameter\n",
    "logit_result = logit_reg_sm.fit()\n",
    "print(logit_result.summary())"
   ]
  },
  {
   "cell_type": "code",
   "execution_count": 63,
   "id": "4a97fa11",
   "metadata": {},
   "outputs": [],
   "source": [
    "#confusion matrix 연산"
   ]
  },
  {
   "cell_type": "code",
   "execution_count": 64,
   "id": "4e05d6c1",
   "metadata": {},
   "outputs": [
    {
     "name": "stdout",
     "output_type": "stream",
     "text": [
      "Collecting package metadata (current_repodata.json): done\n",
      "Solving environment: done\n",
      "\n",
      "## Package Plan ##\n",
      "\n",
      "  environment location: /Users/jaunnnngspc/opt/anaconda3/envs/fakepython\n",
      "\n",
      "  added / updated specs:\n",
      "    - dmba\n",
      "\n",
      "\n",
      "The following packages will be downloaded:\n",
      "\n",
      "    package                    |            build\n",
      "    ---------------------------|-----------------\n",
      "    cycler-0.11.0              |     pyhd8ed1ab_0          10 KB  conda-forge\n",
      "    dmba-0.1.0                 |     pyhd8ed1ab_0        11.3 MB  conda-forge\n",
      "    freetype-2.10.4            |       h4cff582_1         890 KB  conda-forge\n",
      "    joblib-1.1.0               |     pyhd8ed1ab_0         210 KB  conda-forge\n",
      "    jpeg-9e                    |       h5eb16cf_1         259 KB  conda-forge\n",
      "    kiwisolver-1.3.2           |   py39he9d5cce_0          53 KB\n",
      "    lcms2-2.12                 |       h577c468_0         404 KB  conda-forge\n",
      "    libpng-1.6.37              |       h7cec526_2         313 KB  conda-forge\n",
      "    libwebp-base-1.2.2         |       h0d85af4_1         703 KB  conda-forge\n",
      "    lz4-c-1.9.3                |       he49afe7_1         155 KB  conda-forge\n",
      "    matplotlib-base-3.4.3      |   py39hb07454d_2         7.3 MB  conda-forge\n",
      "    olefile-0.46               |     pyh9f0ad1d_1          32 KB  conda-forge\n",
      "    pillow-7.2.0               |   py39h31b929e_2         634 KB  conda-forge\n",
      "    scikit-learn-1.0.2         |   py39hd4eea88_0         7.3 MB  conda-forge\n",
      "    threadpoolctl-3.1.0        |     pyh8a188c0_0          18 KB  conda-forge\n",
      "    zstd-1.4.9                 |       h582d3a0_0         460 KB  conda-forge\n",
      "    ------------------------------------------------------------\n",
      "                                           Total:        29.9 MB\n",
      "\n",
      "The following NEW packages will be INSTALLED:\n",
      "\n",
      "  cycler             conda-forge/noarch::cycler-0.11.0-pyhd8ed1ab_0\n",
      "  dmba               conda-forge/noarch::dmba-0.1.0-pyhd8ed1ab_0\n",
      "  freetype           conda-forge/osx-64::freetype-2.10.4-h4cff582_1\n",
      "  joblib             conda-forge/noarch::joblib-1.1.0-pyhd8ed1ab_0\n",
      "  jpeg               conda-forge/osx-64::jpeg-9e-h5eb16cf_1\n",
      "  kiwisolver         pkgs/main/osx-64::kiwisolver-1.3.2-py39he9d5cce_0\n",
      "  lcms2              conda-forge/osx-64::lcms2-2.12-h577c468_0\n",
      "  libpng             conda-forge/osx-64::libpng-1.6.37-h7cec526_2\n",
      "  libtiff            pkgs/main/osx-64::libtiff-4.2.0-h87d7836_0\n",
      "  libwebp-base       conda-forge/osx-64::libwebp-base-1.2.2-h0d85af4_1\n",
      "  lz4-c              conda-forge/osx-64::lz4-c-1.9.3-he49afe7_1\n",
      "  matplotlib-base    conda-forge/osx-64::matplotlib-base-3.4.3-py39hb07454d_2\n",
      "  olefile            conda-forge/noarch::olefile-0.46-pyh9f0ad1d_1\n",
      "  pillow             conda-forge/osx-64::pillow-7.2.0-py39h31b929e_2\n",
      "  scikit-learn       conda-forge/osx-64::scikit-learn-1.0.2-py39hd4eea88_0\n",
      "  threadpoolctl      conda-forge/noarch::threadpoolctl-3.1.0-pyh8a188c0_0\n",
      "  zstd               conda-forge/osx-64::zstd-1.4.9-h582d3a0_0\n",
      "\n",
      "\n",
      "\n",
      "Downloading and Extracting Packages\n",
      "pillow-7.2.0         | 634 KB    | ##################################### | 100% \n",
      "matplotlib-base-3.4. | 7.3 MB    | ##################################### | 100% \n",
      "threadpoolctl-3.1.0  | 18 KB     | ##################################### | 100% \n",
      "lcms2-2.12           | 404 KB    | ##################################### | 100% \n",
      "dmba-0.1.0           | 11.3 MB   | ##################################### | 100% \n",
      "olefile-0.46         | 32 KB     | ##################################### | 100% \n",
      "scikit-learn-1.0.2   | 7.3 MB    | ##################################### | 100% \n",
      "jpeg-9e              | 259 KB    | ##################################### | 100% \n",
      "libpng-1.6.37        | 313 KB    | ##################################### | 100% \n",
      "freetype-2.10.4      | 890 KB    | ##################################### | 100% \n",
      "lz4-c-1.9.3          | 155 KB    | ##################################### | 100% \n",
      "kiwisolver-1.3.2     | 53 KB     | ##################################### | 100% \n",
      "joblib-1.1.0         | 210 KB    | ##################################### | 100% \n",
      "libwebp-base-1.2.2   | 703 KB    | ##################################### | 100% \n",
      "zstd-1.4.9           | 460 KB    | ##################################### | 100% \n",
      "cycler-0.11.0        | 10 KB     | ##################################### | 100% \n",
      "Preparing transaction: done\n",
      "Verifying transaction: done\n",
      "Executing transaction: done\n",
      "\n",
      "Note: you may need to restart the kernel to use updated packages.\n"
     ]
    }
   ],
   "source": [
    "conda install -c conda-forge dmba"
   ]
  },
  {
   "cell_type": "code",
   "execution_count": 65,
   "id": "0c76c5c9",
   "metadata": {},
   "outputs": [
    {
     "name": "stderr",
     "output_type": "stream",
     "text": [
      "/Users/jaunnnngspc/opt/anaconda3/envs/fakepython/lib/python3.9/site-packages/sklearn/base.py:443: UserWarning: X has feature names, but LogisticRegression was fitted without feature names\n",
      "  warnings.warn(\n"
     ]
    }
   ],
   "source": [
    "#coding\n",
    "true_y = Y ==1\n",
    "pred_y = logit_reg.predict(Xs) ==1"
   ]
  },
  {
   "cell_type": "code",
   "execution_count": 67,
   "id": "f7e77fc0",
   "metadata": {},
   "outputs": [
    {
     "data": {
      "text/html": [
       "<div>\n",
       "<style scoped>\n",
       "    .dataframe tbody tr th:only-of-type {\n",
       "        vertical-align: middle;\n",
       "    }\n",
       "\n",
       "    .dataframe tbody tr th {\n",
       "        vertical-align: top;\n",
       "    }\n",
       "\n",
       "    .dataframe thead th {\n",
       "        text-align: right;\n",
       "    }\n",
       "</style>\n",
       "<table border=\"1\" class=\"dataframe\">\n",
       "  <thead>\n",
       "    <tr style=\"text-align: right;\">\n",
       "      <th></th>\n",
       "      <th>model 구매</th>\n",
       "      <th>model 구매 x</th>\n",
       "    </tr>\n",
       "  </thead>\n",
       "  <tbody>\n",
       "    <tr>\n",
       "      <th>true 구매</th>\n",
       "      <td>104</td>\n",
       "      <td>39</td>\n",
       "    </tr>\n",
       "    <tr>\n",
       "      <th>true 구매 x</th>\n",
       "      <td>20</td>\n",
       "      <td>237</td>\n",
       "    </tr>\n",
       "  </tbody>\n",
       "</table>\n",
       "</div>"
      ],
      "text/plain": [
       "           model 구매  model 구매 x\n",
       "true 구매         104          39\n",
       "true 구매 x        20         237"
      ]
     },
     "execution_count": 67,
     "metadata": {},
     "output_type": "execute_result"
    }
   ],
   "source": [
    "tp = sum(true_y & pred_y)\n",
    "fn = sum(true_y & ~pred_y)\n",
    "fp = sum(~true_y & pred_y)\n",
    "tn = sum(~true_y & ~pred_y)\n",
    "conf_mat = [[tp, fn], [fp, tn]]\n",
    "pd.DataFrame(conf_mat,\n",
    "index = ['true 구매', 'true 구매 x'],\n",
    "columns = ['model 구매', 'model 구매 x'])"
   ]
  },
  {
   "cell_type": "code",
   "execution_count": 68,
   "id": "ec26e45e",
   "metadata": {},
   "outputs": [],
   "source": [
    "from sklearn.metrics import confusion_matrix\n",
    "from dmba import classificationSummary"
   ]
  },
  {
   "cell_type": "code",
   "execution_count": 69,
   "id": "5e487ffc",
   "metadata": {},
   "outputs": [
    {
     "name": "stderr",
     "output_type": "stream",
     "text": [
      "/Users/jaunnnngspc/opt/anaconda3/envs/fakepython/lib/python3.9/site-packages/sklearn/base.py:443: UserWarning: X has feature names, but LogisticRegression was fitted without feature names\n",
      "  warnings.warn(\n"
     ]
    },
    {
     "data": {
      "text/plain": [
       "array([[237,  20],\n",
       "       [ 39, 104]])"
      ]
     },
     "execution_count": 69,
     "metadata": {},
     "output_type": "execute_result"
    }
   ],
   "source": [
    "confusion_matrix(Y, logit_reg.predict(Xs))"
   ]
  },
  {
   "cell_type": "code",
   "execution_count": 70,
   "id": "6d6701e4",
   "metadata": {},
   "outputs": [
    {
     "name": "stdout",
     "output_type": "stream",
     "text": [
      "Confusion Matrix (Accuracy 0.8525)\n",
      "\n",
      "       Prediction\n",
      "Actual   0   1\n",
      "     0 237  20\n",
      "     1  39 104\n"
     ]
    },
    {
     "name": "stderr",
     "output_type": "stream",
     "text": [
      "/Users/jaunnnngspc/opt/anaconda3/envs/fakepython/lib/python3.9/site-packages/sklearn/base.py:443: UserWarning: X has feature names, but LogisticRegression was fitted without feature names\n",
      "  warnings.warn(\n"
     ]
    }
   ],
   "source": [
    "classificationSummary(Y, logit_reg.predict(Xs), class_names=logit_reg.classes_)"
   ]
  },
  {
   "cell_type": "code",
   "execution_count": 71,
   "id": "7838fe22",
   "metadata": {},
   "outputs": [
    {
     "name": "stdout",
     "output_type": "stream",
     "text": [
      "0.8387096774193549 0.7272727272727273 0.9221789883268483 0.8525\n"
     ]
    }
   ],
   "source": [
    "#평가 지표 계산\n",
    "precision = tp/(tp+fp)\n",
    "recall = tp/(tp+fn)\n",
    "sensitivity = tn/(tn+fp)\n",
    "accuracy = (tp + tn)/(tp+tn+fp+fn)\n",
    "\n",
    "print(precision, recall, sensitivity, accuracy)"
   ]
  },
  {
   "cell_type": "code",
   "execution_count": 79,
   "id": "47ab0448",
   "metadata": {},
   "outputs": [],
   "source": [
    "# sklearn을 사용해 ROC Curve 그리기 "
   ]
  },
  {
   "cell_type": "code",
   "execution_count": 80,
   "id": "24ff49c9",
   "metadata": {},
   "outputs": [],
   "source": [
    "from sklearn.metrics import roc_curve"
   ]
  },
  {
   "cell_type": "code",
   "execution_count": 81,
   "id": "c7e9f360",
   "metadata": {},
   "outputs": [
    {
     "name": "stderr",
     "output_type": "stream",
     "text": [
      "/Users/jaunnnngspc/opt/anaconda3/envs/fakepython/lib/python3.9/site-packages/sklearn/base.py:443: UserWarning: X has feature names, but LogisticRegression was fitted without feature names\n",
      "  warnings.warn(\n"
     ]
    },
    {
     "data": {
      "text/plain": [
       "array([0.99882286, 0.00117714])"
      ]
     },
     "execution_count": 81,
     "metadata": {},
     "output_type": "execute_result"
    }
   ],
   "source": [
    "logit_reg.predict_proba(Xs)[0]"
   ]
  },
  {
   "cell_type": "code",
   "execution_count": 92,
   "id": "412e74da",
   "metadata": {},
   "outputs": [
    {
     "name": "stderr",
     "output_type": "stream",
     "text": [
      "/Users/jaunnnngspc/opt/anaconda3/envs/fakepython/lib/python3.9/site-packages/sklearn/base.py:443: UserWarning: X has feature names, but LogisticRegression was fitted without feature names\n",
      "  warnings.warn(\n",
      "/var/folders/jy/qx6y98ss10nb55bjdvcnfbz40000gn/T/ipykernel_18012/4134708961.py:15: UserWarning: Matplotlib is currently using agg, which is a non-GUI backend, so cannot show the figure.\n",
      "  plt.show()\n",
      "/Users/jaunnnngspc/opt/anaconda3/envs/fakepython/lib/python3.9/site-packages/IPython/core/pylabtools.py:151: UserWarning: Glyph 53945 (\\N{HANGUL SYLLABLE TEUG}) missing from current font.\n",
      "  fig.canvas.print_figure(bytes_io, **kw)\n",
      "/Users/jaunnnngspc/opt/anaconda3/envs/fakepython/lib/python3.9/site-packages/IPython/core/pylabtools.py:151: UserWarning: Glyph 51060 (\\N{HANGUL SYLLABLE I}) missing from current font.\n",
      "  fig.canvas.print_figure(bytes_io, **kw)\n",
      "/Users/jaunnnngspc/opt/anaconda3/envs/fakepython/lib/python3.9/site-packages/IPython/core/pylabtools.py:151: UserWarning: Glyph 46020 (\\N{HANGUL SYLLABLE DO}) missing from current font.\n",
      "  fig.canvas.print_figure(bytes_io, **kw)\n",
      "/Users/jaunnnngspc/opt/anaconda3/envs/fakepython/lib/python3.9/site-packages/IPython/core/pylabtools.py:151: UserWarning: Glyph 48124 (\\N{HANGUL SYLLABLE MIN}) missing from current font.\n",
      "  fig.canvas.print_figure(bytes_io, **kw)\n",
      "/Users/jaunnnngspc/opt/anaconda3/envs/fakepython/lib/python3.9/site-packages/IPython/core/pylabtools.py:151: UserWarning: Glyph 44048 (\\N{HANGUL SYLLABLE GAM}) missing from current font.\n",
      "  fig.canvas.print_figure(bytes_io, **kw)\n"
     ]
    },
    {
     "data": {
      "image/png": "[encoded data removed]",
      "text/plain": [
       "<Figure size 360x360 with 1 Axes>"
      ]
     },
     "metadata": {
      "needs_background": "light"
     },
     "output_type": "display_data"
    }
   ],
   "source": [
    "fpr, tpr, threshold = roc_curve(Y, logit_reg.predict_proba(Xs)[:, 1], pos_label=1)\n",
    "# false positive rate: fp/(fp+tn) => 1-fpr: tn/(fp+tn): 특이도\n",
    "# true positive rate: tp/(tp+fn): 민감도\n",
    "\n",
    "roc_df = pd.DataFrame({'민감도': tpr, '1-특이도': fpr})\n",
    "\n",
    "fig, ax = plt.subplots(1,1,figsize=(5,5))\n",
    "roc_df.plot(x='1-특이도', y='민감도', legend=False, ax=ax)\n",
    "ax.set_ylim(0,1)\n",
    "ax.set_xlim(0,1)\n",
    "ax.plot((0,1),(0,1))\n",
    "ax.set_xlabel('1-특이도')\n",
    "ax.set_ylabel('민감도')\n",
    "\n",
    "plt.show()"
   ]
  },
  {
   "cell_type": "code",
   "execution_count": 93,
   "id": "f3799c21",
   "metadata": {},
   "outputs": [
    {
     "name": "stdout",
     "output_type": "stream",
     "text": [
      "[0.         0.         0.         0.01167315 0.01167315]\n",
      "[1. 1. 1. 1. 1.]\n",
      "[1.99795728 0.99795728 0.98070235 0.9762448  0.96858916]\n"
     ]
    }
   ],
   "source": [
    "print(fpr[:5])\n",
    "print(tpr[-5:])\n",
    "print(threshold[:5])"
   ]
  },
  {
   "cell_type": "code",
   "execution_count": 94,
   "id": "154fea24",
   "metadata": {},
   "outputs": [],
   "source": [
    "#AUC는 ROC curve 밑에 면적을 계산하는거"
   ]
  },
  {
   "cell_type": "code",
   "execution_count": 98,
   "id": "6fc96da1",
   "metadata": {},
   "outputs": [
    {
     "name": "stderr",
     "output_type": "stream",
     "text": [
      "/Users/jaunnnngspc/opt/anaconda3/envs/fakepython/lib/python3.9/site-packages/sklearn/base.py:443: UserWarning: X has feature names, but LogisticRegression was fitted without feature names\n",
      "  warnings.warn(\n",
      "/var/folders/jy/qx6y98ss10nb55bjdvcnfbz40000gn/T/ipykernel_18012/129826890.py:17: UserWarning: Matplotlib is currently using agg, which is a non-GUI backend, so cannot show the figure.\n",
      "  plt.show()\n",
      "/Users/jaunnnngspc/opt/anaconda3/envs/fakepython/lib/python3.9/site-packages/IPython/core/pylabtools.py:151: UserWarning: Glyph 53945 (\\N{HANGUL SYLLABLE TEUG}) missing from current font.\n",
      "  fig.canvas.print_figure(bytes_io, **kw)\n",
      "/Users/jaunnnngspc/opt/anaconda3/envs/fakepython/lib/python3.9/site-packages/IPython/core/pylabtools.py:151: UserWarning: Glyph 51060 (\\N{HANGUL SYLLABLE I}) missing from current font.\n",
      "  fig.canvas.print_figure(bytes_io, **kw)\n",
      "/Users/jaunnnngspc/opt/anaconda3/envs/fakepython/lib/python3.9/site-packages/IPython/core/pylabtools.py:151: UserWarning: Glyph 46020 (\\N{HANGUL SYLLABLE DO}) missing from current font.\n",
      "  fig.canvas.print_figure(bytes_io, **kw)\n",
      "/Users/jaunnnngspc/opt/anaconda3/envs/fakepython/lib/python3.9/site-packages/IPython/core/pylabtools.py:151: UserWarning: Glyph 48124 (\\N{HANGUL SYLLABLE MIN}) missing from current font.\n",
      "  fig.canvas.print_figure(bytes_io, **kw)\n",
      "/Users/jaunnnngspc/opt/anaconda3/envs/fakepython/lib/python3.9/site-packages/IPython/core/pylabtools.py:151: UserWarning: Glyph 44048 (\\N{HANGUL SYLLABLE GAM}) missing from current font.\n",
      "  fig.canvas.print_figure(bytes_io, **kw)\n"
     ]
    },
    {
     "data": {
      "image/png": "[encoded data removed]",
      "text/plain": [
       "<Figure size 360x360 with 1 Axes>"
      ]
     },
     "metadata": {
      "needs_background": "light"
     },
     "output_type": "display_data"
    }
   ],
   "source": [
    "fpr, tpr, threshold = roc_curve(Y, logit_reg.predict_proba(Xs)[:, 1], pos_label=1)\n",
    "# false positive rate: fp/(fp+tn) => 1-fpr: tn/(fp+tn): 특이도\n",
    "# true positive rate: tp/(tp+fn): 민감도\n",
    "\n",
    "roc_df = pd.DataFrame({'민감도': tpr, '1-특이도': fpr})\n",
    "\n",
    "fig, ax = plt.subplots(1,1,figsize=(5,5))\n",
    "roc_df.plot(x='1-특이도', y='민감도', legend=False, ax=ax)\n",
    "ax.set_ylim(0,1)\n",
    "ax.set_xlim(0,1)\n",
    "ax.plot((0,1),(0,1))\n",
    "ax.set_xlabel('1-특이도')\n",
    "ax.set_ylabel('민감도')\n",
    "\n",
    "ax.fill_between(roc_df['1-특이도'],0, roc_df['민감도'], alpha=0.3)\n",
    "\n",
    "plt.show()"
   ]
  },
  {
   "cell_type": "code",
   "execution_count": 96,
   "id": "585c95c1",
   "metadata": {},
   "outputs": [],
   "source": [
    "from sklearn.metrics import roc_auc_score\n",
    "from sklearn.metrics import auc"
   ]
  },
  {
   "cell_type": "code",
   "execution_count": 97,
   "id": "dca2a0eb",
   "metadata": {},
   "outputs": [
    {
     "data": {
      "text/plain": [
       "0.9274441511795597"
      ]
     },
     "execution_count": 97,
     "metadata": {},
     "output_type": "execute_result"
    }
   ],
   "source": [
    "auc(fpr, tpr)"
   ]
  },
  {
   "cell_type": "code",
   "execution_count": 99,
   "id": "cbea966e",
   "metadata": {},
   "outputs": [
    {
     "name": "stderr",
     "output_type": "stream",
     "text": [
      "/Users/jaunnnngspc/opt/anaconda3/envs/fakepython/lib/python3.9/site-packages/sklearn/base.py:443: UserWarning: X has feature names, but LogisticRegression was fitted without feature names\n",
      "  warnings.warn(\n"
     ]
    },
    {
     "data": {
      "text/plain": [
       "0.9274441511795597"
      ]
     },
     "execution_count": 99,
     "metadata": {},
     "output_type": "execute_result"
    }
   ],
   "source": [
    "roc_auc_score(Y, logit_reg.predict_proba(Xs)[:,1])"
   ]
  },
  {
   "cell_type": "code",
   "execution_count": 101,
   "id": "b2cc3dec",
   "metadata": {},
   "outputs": [],
   "source": [
    "from sklearn.metrics import precision_recall_fscore_support"
   ]
  },
  {
   "cell_type": "code",
   "execution_count": 102,
   "id": "c67ca1a0",
   "metadata": {},
   "outputs": [
    {
     "name": "stderr",
     "output_type": "stream",
     "text": [
      "/Users/jaunnnngspc/opt/anaconda3/envs/fakepython/lib/python3.9/site-packages/sklearn/base.py:443: UserWarning: X has feature names, but LogisticRegression was fitted without feature names\n",
      "  warnings.warn(\n"
     ]
    },
    {
     "data": {
      "text/plain": [
       "(array([0.85869565, 0.83870968]),\n",
       " array([0.92217899, 0.72727273]),\n",
       " array([0.88930582, 0.77902622]),\n",
       " array([257, 143]))"
      ]
     },
     "execution_count": 102,
     "metadata": {},
     "output_type": "execute_result"
    }
   ],
   "source": [
    "precision_recall_fscore_support(Y, logit_reg.predict(Xs), labels = logit_reg.classes_)\n",
    "\n",
    "# 각 클래스(0,1)에 대한 정밀도, 재현율, f1score\n",
    "#f1-score:2*precision*recall/(precision+recall)"
   ]
  },
  {
   "cell_type": "code",
   "execution_count": null,
   "id": "264f08d9",
   "metadata": {},
   "outputs": [],
   "source": [
    "#클래스가 여러개 일때 logisic regression"
   ]
  },
  {
   "cell_type": "code",
   "execution_count": 110,
   "id": "b72abce9",
   "metadata": {},
   "outputs": [
    {
     "data": {
      "text/html": [
       "<div>\n",
       "<style scoped>\n",
       "    .dataframe tbody tr th:only-of-type {\n",
       "        vertical-align: middle;\n",
       "    }\n",
       "\n",
       "    .dataframe tbody tr th {\n",
       "        vertical-align: top;\n",
       "    }\n",
       "\n",
       "    .dataframe thead th {\n",
       "        text-align: right;\n",
       "    }\n",
       "</style>\n",
       "<table border=\"1\" class=\"dataframe\">\n",
       "  <thead>\n",
       "    <tr style=\"text-align: right;\">\n",
       "      <th></th>\n",
       "      <th>Id</th>\n",
       "      <th>RI</th>\n",
       "      <th>Na</th>\n",
       "      <th>Mg</th>\n",
       "      <th>Al</th>\n",
       "      <th>Si</th>\n",
       "      <th>K</th>\n",
       "      <th>Ca</th>\n",
       "      <th>Ba</th>\n",
       "      <th>Fe</th>\n",
       "      <th>glass-type</th>\n",
       "    </tr>\n",
       "  </thead>\n",
       "  <tbody>\n",
       "    <tr>\n",
       "      <th>0</th>\n",
       "      <td>1</td>\n",
       "      <td>1.52101</td>\n",
       "      <td>13.64</td>\n",
       "      <td>4.49</td>\n",
       "      <td>1.10</td>\n",
       "      <td>71.78</td>\n",
       "      <td>0.06</td>\n",
       "      <td>8.75</td>\n",
       "      <td>0.00</td>\n",
       "      <td>0.0</td>\n",
       "      <td>1</td>\n",
       "    </tr>\n",
       "    <tr>\n",
       "      <th>1</th>\n",
       "      <td>2</td>\n",
       "      <td>1.51761</td>\n",
       "      <td>13.89</td>\n",
       "      <td>3.60</td>\n",
       "      <td>1.36</td>\n",
       "      <td>72.73</td>\n",
       "      <td>0.48</td>\n",
       "      <td>7.83</td>\n",
       "      <td>0.00</td>\n",
       "      <td>0.0</td>\n",
       "      <td>1</td>\n",
       "    </tr>\n",
       "    <tr>\n",
       "      <th>2</th>\n",
       "      <td>3</td>\n",
       "      <td>1.51618</td>\n",
       "      <td>13.53</td>\n",
       "      <td>3.55</td>\n",
       "      <td>1.54</td>\n",
       "      <td>72.99</td>\n",
       "      <td>0.39</td>\n",
       "      <td>7.78</td>\n",
       "      <td>0.00</td>\n",
       "      <td>0.0</td>\n",
       "      <td>1</td>\n",
       "    </tr>\n",
       "    <tr>\n",
       "      <th>3</th>\n",
       "      <td>4</td>\n",
       "      <td>1.51766</td>\n",
       "      <td>13.21</td>\n",
       "      <td>3.69</td>\n",
       "      <td>1.29</td>\n",
       "      <td>72.61</td>\n",
       "      <td>0.57</td>\n",
       "      <td>8.22</td>\n",
       "      <td>0.00</td>\n",
       "      <td>0.0</td>\n",
       "      <td>1</td>\n",
       "    </tr>\n",
       "    <tr>\n",
       "      <th>4</th>\n",
       "      <td>5</td>\n",
       "      <td>1.51742</td>\n",
       "      <td>13.27</td>\n",
       "      <td>3.62</td>\n",
       "      <td>1.24</td>\n",
       "      <td>73.08</td>\n",
       "      <td>0.55</td>\n",
       "      <td>8.07</td>\n",
       "      <td>0.00</td>\n",
       "      <td>0.0</td>\n",
       "      <td>1</td>\n",
       "    </tr>\n",
       "    <tr>\n",
       "      <th>...</th>\n",
       "      <td>...</td>\n",
       "      <td>...</td>\n",
       "      <td>...</td>\n",
       "      <td>...</td>\n",
       "      <td>...</td>\n",
       "      <td>...</td>\n",
       "      <td>...</td>\n",
       "      <td>...</td>\n",
       "      <td>...</td>\n",
       "      <td>...</td>\n",
       "      <td>...</td>\n",
       "    </tr>\n",
       "    <tr>\n",
       "      <th>209</th>\n",
       "      <td>210</td>\n",
       "      <td>1.51623</td>\n",
       "      <td>14.14</td>\n",
       "      <td>0.00</td>\n",
       "      <td>2.88</td>\n",
       "      <td>72.61</td>\n",
       "      <td>0.08</td>\n",
       "      <td>9.18</td>\n",
       "      <td>1.06</td>\n",
       "      <td>0.0</td>\n",
       "      <td>7</td>\n",
       "    </tr>\n",
       "    <tr>\n",
       "      <th>210</th>\n",
       "      <td>211</td>\n",
       "      <td>1.51685</td>\n",
       "      <td>14.92</td>\n",
       "      <td>0.00</td>\n",
       "      <td>1.99</td>\n",
       "      <td>73.06</td>\n",
       "      <td>0.00</td>\n",
       "      <td>8.40</td>\n",
       "      <td>1.59</td>\n",
       "      <td>0.0</td>\n",
       "      <td>7</td>\n",
       "    </tr>\n",
       "    <tr>\n",
       "      <th>211</th>\n",
       "      <td>212</td>\n",
       "      <td>1.52065</td>\n",
       "      <td>14.36</td>\n",
       "      <td>0.00</td>\n",
       "      <td>2.02</td>\n",
       "      <td>73.42</td>\n",
       "      <td>0.00</td>\n",
       "      <td>8.44</td>\n",
       "      <td>1.64</td>\n",
       "      <td>0.0</td>\n",
       "      <td>7</td>\n",
       "    </tr>\n",
       "    <tr>\n",
       "      <th>212</th>\n",
       "      <td>213</td>\n",
       "      <td>1.51651</td>\n",
       "      <td>14.38</td>\n",
       "      <td>0.00</td>\n",
       "      <td>1.94</td>\n",
       "      <td>73.61</td>\n",
       "      <td>0.00</td>\n",
       "      <td>8.48</td>\n",
       "      <td>1.57</td>\n",
       "      <td>0.0</td>\n",
       "      <td>7</td>\n",
       "    </tr>\n",
       "    <tr>\n",
       "      <th>213</th>\n",
       "      <td>214</td>\n",
       "      <td>1.51711</td>\n",
       "      <td>14.23</td>\n",
       "      <td>0.00</td>\n",
       "      <td>2.08</td>\n",
       "      <td>73.36</td>\n",
       "      <td>0.00</td>\n",
       "      <td>8.62</td>\n",
       "      <td>1.67</td>\n",
       "      <td>0.0</td>\n",
       "      <td>7</td>\n",
       "    </tr>\n",
       "  </tbody>\n",
       "</table>\n",
       "<p>214 rows × 11 columns</p>\n",
       "</div>"
      ],
      "text/plain": [
       "      Id       RI     Na    Mg    Al     Si     K    Ca    Ba   Fe  glass-type\n",
       "0      1  1.52101  13.64  4.49  1.10  71.78  0.06  8.75  0.00  0.0           1\n",
       "1      2  1.51761  13.89  3.60  1.36  72.73  0.48  7.83  0.00  0.0           1\n",
       "2      3  1.51618  13.53  3.55  1.54  72.99  0.39  7.78  0.00  0.0           1\n",
       "3      4  1.51766  13.21  3.69  1.29  72.61  0.57  8.22  0.00  0.0           1\n",
       "4      5  1.51742  13.27  3.62  1.24  73.08  0.55  8.07  0.00  0.0           1\n",
       "..   ...      ...    ...   ...   ...    ...   ...   ...   ...  ...         ...\n",
       "209  210  1.51623  14.14  0.00  2.88  72.61  0.08  9.18  1.06  0.0           7\n",
       "210  211  1.51685  14.92  0.00  1.99  73.06  0.00  8.40  1.59  0.0           7\n",
       "211  212  1.52065  14.36  0.00  2.02  73.42  0.00  8.44  1.64  0.0           7\n",
       "212  213  1.51651  14.38  0.00  1.94  73.61  0.00  8.48  1.57  0.0           7\n",
       "213  214  1.51711  14.23  0.00  2.08  73.36  0.00  8.62  1.67  0.0           7\n",
       "\n",
       "[214 rows x 11 columns]"
      ]
     },
     "execution_count": 110,
     "metadata": {},
     "output_type": "execute_result"
    }
   ],
   "source": [
    "glasses = pd.read_csv('glass.txt', header=None)\n",
    "glasses.columns = [\"Id\", \"RI\", \"Na\", \"Mg\", \"Al\", \"Si\", \"K\", \"Ca\", \"Ba\", \"Fe\", \"glass-type\"]\n",
    "glasses"
   ]
  },
  {
   "cell_type": "code",
   "execution_count": 111,
   "id": "25509949",
   "metadata": {},
   "outputs": [
    {
     "data": {
      "text/plain": [
       "array([1, 2, 3, 5, 6, 7])"
      ]
     },
     "execution_count": 111,
     "metadata": {},
     "output_type": "execute_result"
    }
   ],
   "source": [
    "glasses['glass-type'].unique()"
   ]
  },
  {
   "cell_type": "code",
   "execution_count": 112,
   "id": "2a9a0aa6",
   "metadata": {},
   "outputs": [],
   "source": [
    "Xs=glasses[[\"RI\", \"Na\", \"Mg\", \"Al\", \"Si\", \"K\", \"Ca\", \"Ba\", \"Fe\"]]\n",
    "Y = glasses['glass-type']"
   ]
  },
  {
   "cell_type": "code",
   "execution_count": 118,
   "id": "0b9b7e43",
   "metadata": {
    "scrolled": true
   },
   "outputs": [
    {
     "name": "stderr",
     "output_type": "stream",
     "text": [
      "/Users/jaunnnngspc/opt/anaconda3/envs/fakepython/lib/python3.9/site-packages/sklearn/linear_model/_logistic.py:814: ConvergenceWarning: lbfgs failed to converge (status=1):\n",
      "STOP: TOTAL NO. of ITERATIONS REACHED LIMIT.\n",
      "\n",
      "Increase the number of iterations (max_iter) or scale the data as shown in:\n",
      "    https://scikit-learn.org/stable/modules/preprocessing.html\n",
      "Please also refer to the documentation for alternative solver options:\n",
      "    https://scikit-learn.org/stable/modules/linear_model.html#logistic-regression\n",
      "  n_iter_i = _check_optimize_result(\n"
     ]
    }
   ],
   "source": [
    "glasses_reg=LogisticRegression(multi_class='multinomial', max_iter=300).fit(Xs,Y) #auto로 해도 알아서 자동으로 이진분류 멀티분류 구분해줌"
   ]
  },
  {
   "cell_type": "code",
   "execution_count": 119,
   "id": "937af059",
   "metadata": {},
   "outputs": [
    {
     "data": {
      "text/plain": [
       "array([7.10395380e-01, 1.21219003e-01, 1.63035480e-01, 4.07259413e-04,\n",
       "       4.61404991e-03, 3.28827236e-04])"
      ]
     },
     "execution_count": 119,
     "metadata": {},
     "output_type": "execute_result"
    }
   ],
   "source": [
    "glasses_reg.predict_proba(Xs)[0]"
   ]
  },
  {
   "cell_type": "code",
   "execution_count": 123,
   "id": "0d2b4063",
   "metadata": {},
   "outputs": [
    {
     "name": "stderr",
     "output_type": "stream",
     "text": [
      "/Users/jaunnnngspc/opt/anaconda3/envs/fakepython/lib/python3.9/site-packages/sklearn/metrics/_classification.py:1318: UndefinedMetricWarning: Precision and F-score are ill-defined and being set to 0.0 in labels with no predicted samples. Use `zero_division` parameter to control this behavior.\n",
      "  _warn_prf(average, modifier, msg_start, len(result))\n"
     ]
    },
    {
     "data": {
      "text/plain": [
       "(array([0.62650602, 0.58139535, 0.        , 0.66666667, 0.57142857,\n",
       "        0.89655172]),\n",
       " array([0.74285714, 0.65789474, 0.        , 0.46153846, 0.44444444,\n",
       "        0.89655172]),\n",
       " array([0.67973856, 0.61728395, 0.        , 0.54545455, 0.5       ,\n",
       "        0.89655172]),\n",
       " array([70, 76, 17, 13,  9, 29]))"
      ]
     },
     "execution_count": 123,
     "metadata": {},
     "output_type": "execute_result"
    }
   ],
   "source": [
    "precision_recall_fscore_support(Y,glasses_reg.predict(Xs), labels=glasses_reg.classes_)"
   ]
  },
  {
   "cell_type": "code",
   "execution_count": 126,
   "id": "f438779c",
   "metadata": {},
   "outputs": [
    {
     "data": {
      "text/plain": [
       "array([[-0.02846863, -0.73272546,  1.49743469, -1.95544404,  0.08836033,\n",
       "        -0.23454483,  0.35144783,  0.04389071, -0.29832775],\n",
       "       [ 0.05594303, -0.36941107,  0.45725027,  0.33387798,  0.01438137,\n",
       "         0.60987267,  0.40507789,  0.29176827,  0.68004178],\n",
       "       [ 0.00355214,  0.18872591,  1.15148123, -0.67259379, -0.10546204,\n",
       "        -0.33692991,  0.34257822, -0.15500743,  0.00236816],\n",
       "       [ 0.02330165, -0.7055326 , -0.78173557,  1.94850193,  0.07982358,\n",
       "         0.97843933,  0.18041804, -0.11791852, -0.05725651],\n",
       "       [-0.05058461,  1.17140069, -0.79268534, -0.22113382, -0.13149074,\n",
       "        -1.28870933, -0.41901726, -1.04426576, -0.20004436],\n",
       "       [-0.00374357,  0.44754253, -1.53174528,  0.56679173,  0.0543875 ,\n",
       "         0.27187206, -0.86050472,  0.98153273, -0.12678131]])"
      ]
     },
     "execution_count": 126,
     "metadata": {},
     "output_type": "execute_result"
    }
   ],
   "source": [
    "glasses_reg.coef_"
   ]
  },
  {
   "cell_type": "code",
   "execution_count": null,
   "id": "a0bd4cbc",
   "metadata": {},
   "outputs": [],
   "source": []
  },
  {
   "cell_type": "code",
   "execution_count": null,
   "id": "693363d6",
   "metadata": {},
   "outputs": [],
   "source": []
  },
  {
   "cell_type": "code",
   "execution_count": null,
   "id": "10912ae6",
   "metadata": {},
   "outputs": [],
   "source": []
  },
  {
   "cell_type": "code",
   "execution_count": null,
   "id": "493690b3",
   "metadata": {},
   "outputs": [],
   "source": []
  },
  {
   "cell_type": "code",
   "execution_count": null,
   "id": "5fc58be3",
   "metadata": {},
   "outputs": [],
   "source": []
  }
 ],
 "metadata": {
  "kernelspec": {
   "display_name": "Python 3 (ipykernel)",
   "language": "python",
   "name": "python3"
  },
  "language_info": {
   "codemirror_mode": {
    "name": "ipython",
    "version": 3
   },
   "file_extension": ".py",
   "mimetype": "text/x-python",
   "name": "python",
   "nbconvert_exporter": "python",
   "pygments_lexer": "ipython3",
   "version": "3.9.12"
  }
 },
 "nbformat": 4,
 "nbformat_minor": 5
}
