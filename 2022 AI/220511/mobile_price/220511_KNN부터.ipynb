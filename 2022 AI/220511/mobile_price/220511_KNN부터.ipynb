{
 "cells": [
  {
   "cell_type": "code",
   "execution_count": 5,
   "id": "78779f37",
   "metadata": {},
   "outputs": [],
   "source": [
    "# KNN 데이터중심 (스케일 영향을 많이받기때문에 표준화를 해야함)"
   ]
  },
  {
   "cell_type": "code",
   "execution_count": 6,
   "id": "4f06d0cd",
   "metadata": {},
   "outputs": [],
   "source": [
    "import pandas as pd\n",
    "from sklearn.model_selection import train_test_split\n",
    "from sklearn.neighbors import KNeighborsClassifier\n",
    "from sklearn.preprocessing import StandardScaler"
   ]
  },
  {
   "cell_type": "code",
   "execution_count": 7,
   "id": "5b3841e4",
   "metadata": {},
   "outputs": [
    {
     "name": "stdout",
     "output_type": "stream",
     "text": [
      "(2000, 21)\n"
     ]
    },
    {
     "data": {
      "text/html": [
       "<div>\n",
       "<style scoped>\n",
       "    .dataframe tbody tr th:only-of-type {\n",
       "        vertical-align: middle;\n",
       "    }\n",
       "\n",
       "    .dataframe tbody tr th {\n",
       "        vertical-align: top;\n",
       "    }\n",
       "\n",
       "    .dataframe thead th {\n",
       "        text-align: right;\n",
       "    }\n",
       "</style>\n",
       "<table border=\"1\" class=\"dataframe\">\n",
       "  <thead>\n",
       "    <tr style=\"text-align: right;\">\n",
       "      <th></th>\n",
       "      <th>battery_power</th>\n",
       "      <th>blue</th>\n",
       "      <th>clock_speed</th>\n",
       "      <th>dual_sim</th>\n",
       "      <th>fc</th>\n",
       "      <th>four_g</th>\n",
       "      <th>int_memory</th>\n",
       "      <th>m_dep</th>\n",
       "      <th>mobile_wt</th>\n",
       "      <th>n_cores</th>\n",
       "      <th>...</th>\n",
       "      <th>px_height</th>\n",
       "      <th>px_width</th>\n",
       "      <th>ram</th>\n",
       "      <th>sc_h</th>\n",
       "      <th>sc_w</th>\n",
       "      <th>talk_time</th>\n",
       "      <th>three_g</th>\n",
       "      <th>touch_screen</th>\n",
       "      <th>wifi</th>\n",
       "      <th>price_range</th>\n",
       "    </tr>\n",
       "  </thead>\n",
       "  <tbody>\n",
       "    <tr>\n",
       "      <th>0</th>\n",
       "      <td>842</td>\n",
       "      <td>0</td>\n",
       "      <td>2.2</td>\n",
       "      <td>0</td>\n",
       "      <td>1</td>\n",
       "      <td>0</td>\n",
       "      <td>7</td>\n",
       "      <td>0.6</td>\n",
       "      <td>188</td>\n",
       "      <td>2</td>\n",
       "      <td>...</td>\n",
       "      <td>20</td>\n",
       "      <td>756</td>\n",
       "      <td>2549</td>\n",
       "      <td>9</td>\n",
       "      <td>7</td>\n",
       "      <td>19</td>\n",
       "      <td>0</td>\n",
       "      <td>0</td>\n",
       "      <td>1</td>\n",
       "      <td>1</td>\n",
       "    </tr>\n",
       "    <tr>\n",
       "      <th>1</th>\n",
       "      <td>1021</td>\n",
       "      <td>1</td>\n",
       "      <td>0.5</td>\n",
       "      <td>1</td>\n",
       "      <td>0</td>\n",
       "      <td>1</td>\n",
       "      <td>53</td>\n",
       "      <td>0.7</td>\n",
       "      <td>136</td>\n",
       "      <td>3</td>\n",
       "      <td>...</td>\n",
       "      <td>905</td>\n",
       "      <td>1988</td>\n",
       "      <td>2631</td>\n",
       "      <td>17</td>\n",
       "      <td>3</td>\n",
       "      <td>7</td>\n",
       "      <td>1</td>\n",
       "      <td>1</td>\n",
       "      <td>0</td>\n",
       "      <td>2</td>\n",
       "    </tr>\n",
       "    <tr>\n",
       "      <th>2</th>\n",
       "      <td>563</td>\n",
       "      <td>1</td>\n",
       "      <td>0.5</td>\n",
       "      <td>1</td>\n",
       "      <td>2</td>\n",
       "      <td>1</td>\n",
       "      <td>41</td>\n",
       "      <td>0.9</td>\n",
       "      <td>145</td>\n",
       "      <td>5</td>\n",
       "      <td>...</td>\n",
       "      <td>1263</td>\n",
       "      <td>1716</td>\n",
       "      <td>2603</td>\n",
       "      <td>11</td>\n",
       "      <td>2</td>\n",
       "      <td>9</td>\n",
       "      <td>1</td>\n",
       "      <td>1</td>\n",
       "      <td>0</td>\n",
       "      <td>2</td>\n",
       "    </tr>\n",
       "    <tr>\n",
       "      <th>3</th>\n",
       "      <td>615</td>\n",
       "      <td>1</td>\n",
       "      <td>2.5</td>\n",
       "      <td>0</td>\n",
       "      <td>0</td>\n",
       "      <td>0</td>\n",
       "      <td>10</td>\n",
       "      <td>0.8</td>\n",
       "      <td>131</td>\n",
       "      <td>6</td>\n",
       "      <td>...</td>\n",
       "      <td>1216</td>\n",
       "      <td>1786</td>\n",
       "      <td>2769</td>\n",
       "      <td>16</td>\n",
       "      <td>8</td>\n",
       "      <td>11</td>\n",
       "      <td>1</td>\n",
       "      <td>0</td>\n",
       "      <td>0</td>\n",
       "      <td>2</td>\n",
       "    </tr>\n",
       "    <tr>\n",
       "      <th>4</th>\n",
       "      <td>1821</td>\n",
       "      <td>1</td>\n",
       "      <td>1.2</td>\n",
       "      <td>0</td>\n",
       "      <td>13</td>\n",
       "      <td>1</td>\n",
       "      <td>44</td>\n",
       "      <td>0.6</td>\n",
       "      <td>141</td>\n",
       "      <td>2</td>\n",
       "      <td>...</td>\n",
       "      <td>1208</td>\n",
       "      <td>1212</td>\n",
       "      <td>1411</td>\n",
       "      <td>8</td>\n",
       "      <td>2</td>\n",
       "      <td>15</td>\n",
       "      <td>1</td>\n",
       "      <td>1</td>\n",
       "      <td>0</td>\n",
       "      <td>1</td>\n",
       "    </tr>\n",
       "  </tbody>\n",
       "</table>\n",
       "<p>5 rows × 21 columns</p>\n",
       "</div>"
      ],
      "text/plain": [
       "   battery_power  blue  clock_speed  dual_sim  fc  four_g  int_memory  m_dep  \\\n",
       "0            842     0          2.2         0   1       0           7    0.6   \n",
       "1           1021     1          0.5         1   0       1          53    0.7   \n",
       "2            563     1          0.5         1   2       1          41    0.9   \n",
       "3            615     1          2.5         0   0       0          10    0.8   \n",
       "4           1821     1          1.2         0  13       1          44    0.6   \n",
       "\n",
       "   mobile_wt  n_cores  ...  px_height  px_width   ram  sc_h  sc_w  talk_time  \\\n",
       "0        188        2  ...         20       756  2549     9     7         19   \n",
       "1        136        3  ...        905      1988  2631    17     3          7   \n",
       "2        145        5  ...       1263      1716  2603    11     2          9   \n",
       "3        131        6  ...       1216      1786  2769    16     8         11   \n",
       "4        141        2  ...       1208      1212  1411     8     2         15   \n",
       "\n",
       "   three_g  touch_screen  wifi  price_range  \n",
       "0        0             0     1            1  \n",
       "1        1             1     0            2  \n",
       "2        1             1     0            2  \n",
       "3        1             0     0            2  \n",
       "4        1             1     0            1  \n",
       "\n",
       "[5 rows x 21 columns]"
      ]
     },
     "execution_count": 7,
     "metadata": {},
     "output_type": "execute_result"
    }
   ],
   "source": [
    "mobile_price = pd.read_csv('train.csv')\n",
    "print(mobile_price.shape)\n",
    "mobile_price.head()"
   ]
  },
  {
   "cell_type": "code",
   "execution_count": 8,
   "id": "2c7a1ede",
   "metadata": {},
   "outputs": [],
   "source": [
    "#데이터셋 전처리\n",
    "columns = mobile_price.columns\n",
    "\n",
    "X = mobile_price[columns[:-1]]\n",
    "y = mobile_price[columns[-1]]\n",
    "\n",
    "sc = StandardScaler()\n",
    "X = sc.fit_transform(X)\n",
    "\n",
    "x_train, x_test, y_train, y_test = train_test_split(X, y, test_size=0.1 , random_state=0)"
   ]
  },
  {
   "cell_type": "code",
   "execution_count": 9,
   "id": "40e3eacd",
   "metadata": {},
   "outputs": [
    {
     "name": "stdout",
     "output_type": "stream",
     "text": [
      "1800 200\n"
     ]
    }
   ],
   "source": [
    "print(len(x_train), len(x_test))"
   ]
  },
  {
   "cell_type": "code",
   "execution_count": 10,
   "id": "87e0652a",
   "metadata": {},
   "outputs": [
    {
     "name": "stdout",
     "output_type": "stream",
     "text": [
      "0.7166666666666667\n",
      "0.62\n"
     ]
    }
   ],
   "source": [
    "# 모델 학습\n",
    "\n",
    "knn_model = KNeighborsClassifier(n_neighbors=11, metric='manhattan').fit(x_train, y_train)\n",
    "print(knn_model.score(x_train, y_train))\n",
    "print(knn_model.score(x_test,y_test)) #객관적으로 봤을때 모델 성능이므로 더 중요!! 너무 낮으면 사용하지 못함"
   ]
  },
  {
   "cell_type": "code",
   "execution_count": 11,
   "id": "84417adf",
   "metadata": {
    "scrolled": true
   },
   "outputs": [
    {
     "name": "stdout",
     "output_type": "stream",
     "text": [
      "[0.09090909 0.09090909 0.36363636 0.45454545]\n",
      "3\n"
     ]
    }
   ],
   "source": [
    "print(knn_model.predict_proba(x_test)[0])# 확률계산하는 것 3번이 확률이 가장높음\n",
    "print(knn_model.predict(x_test)[0]) #높은 모델 바로 출력 그래서 3이 출력!"
   ]
  },
  {
   "cell_type": "code",
   "execution_count": 12,
   "id": "ed6ab414",
   "metadata": {},
   "outputs": [],
   "source": [
    "from sklearn.metrics import confusion_matrix"
   ]
  },
  {
   "cell_type": "code",
   "execution_count": 13,
   "id": "0b76d2e3",
   "metadata": {},
   "outputs": [],
   "source": [
    "y_pred = knn_model.predict(x_test)"
   ]
  },
  {
   "cell_type": "code",
   "execution_count": 14,
   "id": "491ff38b",
   "metadata": {},
   "outputs": [
    {
     "data": {
      "text/plain": [
       "array([[34,  8,  0,  0],\n",
       "       [18, 23,  7,  2],\n",
       "       [ 3, 11, 27,  6],\n",
       "       [ 0,  2, 19, 40]])"
      ]
     },
     "execution_count": 14,
     "metadata": {},
     "output_type": "execute_result"
    }
   ],
   "source": [
    "confusion_matrix(y_test, y_pred)"
   ]
  },
  {
   "cell_type": "code",
   "execution_count": 15,
   "id": "b845f675",
   "metadata": {},
   "outputs": [
    {
     "data": {
      "text/plain": [
       "[[34, 8], [21, 1]]"
      ]
     },
     "execution_count": 15,
     "metadata": {},
     "output_type": "execute_result"
    }
   ],
   "source": [
    "# class 0에 대한 confusion matrix #map는 높으면 좋음!\n",
    "[[34,8],\n",
    "[21,1]]"
   ]
  },
  {
   "cell_type": "code",
   "execution_count": 16,
   "id": "2ed738b8",
   "metadata": {},
   "outputs": [],
   "source": [
    "# knn regressor"
   ]
  },
  {
   "cell_type": "code",
   "execution_count": 17,
   "id": "13801b44",
   "metadata": {},
   "outputs": [],
   "source": [
    "marketing = pd.read_csv('Marketing_data.csv')\n",
    "X_market = marketing[['youtube', 'facebook', 'newspaper']]\n",
    "y_market = marketing['sales']\n",
    "\n",
    "x_market = sc.fit_transform(X_market)\n",
    "\n",
    "x_train_m, x_test_m, y_train_m, y_test_m = train_test_split(X_market, y_market, test_size=0.1, random_state=0)"
   ]
  },
  {
   "cell_type": "code",
   "execution_count": 18,
   "id": "af03470f",
   "metadata": {},
   "outputs": [
    {
     "data": {
      "text/plain": [
       "KNeighborsRegressor(n_neighbors=3)"
      ]
     },
     "execution_count": 18,
     "metadata": {},
     "output_type": "execute_result"
    }
   ],
   "source": [
    "from sklearn.neighbors import KNeighborsRegressor\n",
    "\n",
    "knn_model_r = KNeighborsRegressor(n_neighbors=3) #홀수하면 좋다! 짝수일때는 상쇄되서 없어질수도 있어서! \n",
    "knn_model_r.fit(x_train_m, y_train_m)"
   ]
  },
  {
   "cell_type": "code",
   "execution_count": 19,
   "id": "dbe6989a",
   "metadata": {},
   "outputs": [
    {
     "name": "stdout",
     "output_type": "stream",
     "text": [
      "0.9600662434323739\n",
      "0.9028362386621314\n"
     ]
    }
   ],
   "source": [
    "print(knn_model_r.score(x_train_m, y_train_m))\n",
    "print(knn_model_r.score(x_test_m, y_test_m))"
   ]
  },
  {
   "cell_type": "code",
   "execution_count": 20,
   "id": "0f1407bc",
   "metadata": {},
   "outputs": [],
   "source": [
    "#Tree Models decision tree, tree, CART(Classification and TegreesionTree) 라고도 불림\n",
    "# 둘다 classification 일때 사용하고\n",
    "# geni impurity 지니 순도 클래스가1개이면 순도 0 나오고 클래스가 여러개일수록 1에 가까워짐!\n",
    "#entropy \n",
    "\n",
    "# regression일 땐 분산사용해서 씀"
   ]
  },
  {
   "cell_type": "code",
   "execution_count": 21,
   "id": "72298403",
   "metadata": {},
   "outputs": [],
   "source": [
    "#Decision tree classifier, regressor 사용"
   ]
  },
  {
   "cell_type": "code",
   "execution_count": 22,
   "id": "f5dd865c",
   "metadata": {},
   "outputs": [],
   "source": [
    "from sklearn.tree import DecisionTreeClassifier\n",
    "from sklearn.tree import DecisionTreeRegressor"
   ]
  },
  {
   "cell_type": "code",
   "execution_count": 23,
   "id": "25a05ee6",
   "metadata": {},
   "outputs": [],
   "source": [
    "cart = DecisionTreeClassifier(max_depth=3).fit(x_train, y_train)  # 보통 깊이를 3 많이 씀"
   ]
  },
  {
   "cell_type": "code",
   "execution_count": 24,
   "id": "73b1af6c",
   "metadata": {},
   "outputs": [],
   "source": [
    "#pip install dmba"
   ]
  },
  {
   "cell_type": "code",
   "execution_count": 25,
   "id": "404aa03e",
   "metadata": {},
   "outputs": [
    {
     "name": "stdout",
     "output_type": "stream",
     "text": [
      "no display found. Using non-interactive Agg backend\n",
      "node=0 test node: go to node 1 if 13 <= 0.10261965915560722 else to node 8\n",
      "  node=1 test node: go to node 2 if 13 <= -0.9389117360115051 else to node 5\n",
      "    node=2 test node: go to node 3 if 11 <= 1.8119149208068848 else to node 4\n",
      "      node=3 leaf node: [[0.919, 0.081, 0.0, 0.0]]\n",
      "      node=4 leaf node: [[0.25, 0.75, 0.0, 0.0]]\n",
      "    node=5 test node: go to node 6 if 0 <= -0.5372502207756042 else to node 7\n",
      "      node=6 leaf node: [[0.399, 0.569, 0.032, 0.0]]\n",
      "      node=7 leaf node: [[0.043, 0.699, 0.257, 0.0]]\n",
      "  node=8 test node: go to node 9 if 13 <= 0.8200268447399139 else to node 12\n",
      "    node=9 test node: go to node 10 if 11 <= 0.9227401912212372 else to node 11\n",
      "      node=10 leaf node: [[0.0, 0.169, 0.746, 0.085]]\n",
      "      node=11 leaf node: [[0.0, 0.0, 0.544, 0.456]]\n",
      "    node=12 test node: go to node 13 if 0 <= -0.5440791249275208 else to node 14\n",
      "      node=13 leaf node: [[0.0, 0.0, 0.383, 0.617]]\n",
      "      node=14 leaf node: [[0.0, 0.0, 0.06, 0.94]]\n"
     ]
    }
   ],
   "source": [
    "from dmba import textDecisionTree\n",
    "print(textDecisionTree(cart))"
   ]
  },
  {
   "cell_type": "code",
   "execution_count": 26,
   "id": "13af221d",
   "metadata": {},
   "outputs": [
    {
     "name": "stdout",
     "output_type": "stream",
     "text": [
      "[ 0.49050173  1.0100505  -1.2530642   0.98117712 -0.76249466 -1.04396559\n",
      "  0.10768319  0.68754816 -1.61762361 -0.22756439 -1.14080978 -0.89054507\n",
      " -0.50571594  1.19394539 -1.25979551 -0.17610693 -1.10039396  0.55964063\n",
      "  0.99401789 -1.01409939]\n",
      "3\n",
      "[0.         0.         0.06020067 0.93979933]\n"
     ]
    }
   ],
   "source": [
    "print(x_test[0])\n",
    "print(cart.predict(x_test)[0])\n",
    "print(cart.predict_proba(x_test)[0])"
   ]
  },
  {
   "cell_type": "code",
   "execution_count": 27,
   "id": "0c728520",
   "metadata": {},
   "outputs": [
    {
     "data": {
      "text/plain": [
       "array([0.05920439, 0.        , 0.        , 0.        , 0.        ,\n",
       "       0.        , 0.        , 0.        , 0.        , 0.        ,\n",
       "       0.        , 0.03979753, 0.        , 0.90099807, 0.        ,\n",
       "       0.        , 0.        , 0.        , 0.        , 0.        ])"
      ]
     },
     "execution_count": 27,
     "metadata": {},
     "output_type": "execute_result"
    }
   ],
   "source": [
    "cart.feature_importances_ # 13이 가장 높음 13에 해당되는게 램크기라서 휴대폰 가격에 가장 큰영향을 미치는게 램용량이다 라고 이야기할수이씀"
   ]
  },
  {
   "cell_type": "code",
   "execution_count": 28,
   "id": "1a7683ac",
   "metadata": {},
   "outputs": [
    {
     "data": {
      "text/plain": [
       "0.775"
      ]
     },
     "execution_count": 28,
     "metadata": {},
     "output_type": "execute_result"
    }
   ],
   "source": [
    "cart.score(x_test, y_test)"
   ]
  },
  {
   "cell_type": "code",
   "execution_count": 29,
   "id": "ad0724aa",
   "metadata": {},
   "outputs": [],
   "source": [
    "# Bagging and the Random Forest\n",
    "# 일반적으로 단일 모델보다 정확함 분류문제인지 수치예측문제인지 골라서 사용하면됨"
   ]
  },
  {
   "cell_type": "code",
   "execution_count": 30,
   "id": "15a69784",
   "metadata": {},
   "outputs": [],
   "source": [
    "# Bagging 은 bootstrap aggregating이라고도 불림"
   ]
  },
  {
   "cell_type": "code",
   "execution_count": 31,
   "id": "97195157",
   "metadata": {},
   "outputs": [],
   "source": [
    "# ensemble, BaggingClassfier, RandomForestClassifier"
   ]
  },
  {
   "cell_type": "code",
   "execution_count": 32,
   "id": "f78f70f8",
   "metadata": {},
   "outputs": [],
   "source": [
    "from sklearn.ensemble import VotingClassifier\n",
    "from sklearn.linear_model import LogisticRegression\n",
    "from sklearn.metrics import accuracy_score"
   ]
  },
  {
   "cell_type": "code",
   "execution_count": 34,
   "id": "383e1b65",
   "metadata": {},
   "outputs": [
    {
     "name": "stdout",
     "output_type": "stream",
     "text": [
      "LogisticRegression : 0.965\n",
      "KNeighborsClassifier : 0.495\n",
      "DecisionTreeClassifier : 0.845\n",
      "ensemble:  0.88\n"
     ]
    }
   ],
   "source": [
    "# 기본(약한) 학습기 생성을 여러개 만들어서 강하게 사용\n",
    "log_model = LogisticRegression()\n",
    "knn_model = KNeighborsClassifier()\n",
    "dct_model = DecisionTreeClassifier()\n",
    "\n",
    "#predict_proba \n",
    "vote_model = VotingClassifier(\n",
    "    estimators=[('lr', log_model), ('dt', dct_model)], \n",
    "    voting='soft'#soft는 확률로 계산됨(hard랑 soft 두종류 있음, 왠만하면 soft 사용하기 좋을수있다!)\n",
    ")\n",
    "vote_model.fit(x_train, y_train)\n",
    "\n",
    "\n",
    "#성능비교해보기\n",
    "for model in (log_model, knn_model, dct_model):\n",
    "    model.fit(x_train, y_train)\n",
    "    y_pred= model.predict(x_test)\n",
    "    print(model.__class__.__name__, ':', accuracy_score(y_test, y_pred))\n",
    "\n",
    "\n",
    "y_pred = vote_model.predict(x_test)\n",
    "print('ensemble: ', accuracy_score(y_test, y_pred))"
   ]
  },
  {
   "cell_type": "code",
   "execution_count": 35,
   "id": "efec018f",
   "metadata": {},
   "outputs": [],
   "source": [
    "#Bagging"
   ]
  },
  {
   "cell_type": "code",
   "execution_count": 36,
   "id": "ed0dabce",
   "metadata": {},
   "outputs": [],
   "source": [
    "from sklearn.ensemble import BaggingClassifier\n",
    "from sklearn.tree import DecisionTreeClassifier"
   ]
  },
  {
   "cell_type": "code",
   "execution_count": 37,
   "id": "eed97dbc",
   "metadata": {},
   "outputs": [
    {
     "data": {
      "text/plain": [
       "BaggingClassifier(base_estimator=DecisionTreeClassifier(), max_samples=0.7,\n",
       "                  n_estimators=100, n_jobs=-1)"
      ]
     },
     "execution_count": 37,
     "metadata": {},
     "output_type": "execute_result"
    }
   ],
   "source": [
    "bag_model = BaggingClassifier(\n",
    "    DecisionTreeClassifier(),\n",
    "    n_estimators= 100,\n",
    "    max_samples= 0.7,\n",
    "    bootstrap=True,\n",
    "    n_jobs=-1\n",
    ")\n",
    "\n",
    "bag_model.fit(x_train, y_train)"
   ]
  },
  {
   "cell_type": "code",
   "execution_count": 38,
   "id": "67cd15c9",
   "metadata": {},
   "outputs": [
    {
     "data": {
      "text/plain": [
       "0.885"
      ]
     },
     "execution_count": 38,
     "metadata": {},
     "output_type": "execute_result"
    }
   ],
   "source": [
    "bag_model.score(x_test,y_test) #한개했을땐 79점...? 무튼 성능올라감"
   ]
  },
  {
   "cell_type": "code",
   "execution_count": 39,
   "id": "3cd0d7ed",
   "metadata": {},
   "outputs": [
    {
     "data": {
      "text/plain": [
       "0.83"
      ]
     },
     "execution_count": 39,
     "metadata": {},
     "output_type": "execute_result"
    }
   ],
   "source": [
    "from sklearn.ensemble import RandomForestClassifier\n",
    "\n",
    "rnd_model = RandomForestClassifier(\n",
    "    n_estimators=100,\n",
    "    max_leaf_nodes=16, #과적합 방지\n",
    "    n_jobs=-1\n",
    ")\n",
    "rnd_model.fit(x_train,y_train)\n",
    "rnd_model.score(x_test,y_test) #이것도 단일모델보다는 성능이 좋음"
   ]
  },
  {
   "cell_type": "code",
   "execution_count": 40,
   "id": "a673f1c8",
   "metadata": {},
   "outputs": [],
   "source": [
    "#Boosting: 병렬형태로 모델 학습했던 Bagging과 달리 직렬형태로 학습"
   ]
  },
  {
   "cell_type": "code",
   "execution_count": 41,
   "id": "84601506",
   "metadata": {},
   "outputs": [],
   "source": [
    "#adaboost, gradient boost"
   ]
  },
  {
   "cell_type": "code",
   "execution_count": 42,
   "id": "72289694",
   "metadata": {
    "scrolled": true
   },
   "outputs": [
    {
     "data": {
      "text/plain": [
       "0.85"
      ]
     },
     "execution_count": 42,
     "metadata": {},
     "output_type": "execute_result"
    }
   ],
   "source": [
    "from sklearn.ensemble import AdaBoostClassifier\n",
    "\n",
    "ada = AdaBoostClassifier(\n",
    "    DecisionTreeClassifier(),\n",
    "    n_estimators=10,\n",
    "    learning_rate=0.5,\n",
    ")\n",
    "ada.fit(x_train, y_train)\n",
    "ada.score(x_test, y_test)"
   ]
  },
  {
   "cell_type": "code",
   "execution_count": 43,
   "id": "396933db",
   "metadata": {},
   "outputs": [],
   "source": [
    "marketing = pd.read_csv('Marketing_data.csv')\n",
    "X_market = marketing[['youtube', 'facebook', 'newspaper']]\n",
    "y_market = marketing['sales']\n",
    "\n",
    "x_market = sc.fit_transform(X_market)\n",
    "\n",
    "x_train_m, x_test_m, y_train_m, y_test_m = train_test_split(X_market, y_market, test_size=0.1, random_state=0)"
   ]
  },
  {
   "cell_type": "code",
   "execution_count": 44,
   "id": "797135e0",
   "metadata": {
    "scrolled": true
   },
   "outputs": [
    {
     "data": {
      "text/plain": [
       "DecisionTreeRegressor(max_depth=3)"
      ]
     },
     "execution_count": 44,
     "metadata": {},
     "output_type": "execute_result"
    }
   ],
   "source": [
    "from sklearn.tree import DecisionTreeRegressor\n",
    "\n",
    "\n",
    "\n",
    "tree_1 = DecisionTreeRegressor(max_depth = 3)\n",
    "tree_1.fit(x_train_m, y_train_m)\n",
    "\n",
    "\n",
    "\n",
    "residual_1 = y_train_m - tree_1.predict(x_train_m)\n",
    "tree_2 = DecisionTreeRegressor(max_depth = 3)\n",
    "tree_2.fit(x_train_m, residual_1)\n",
    "\n",
    "\n",
    "\n",
    "residual_2 = residual_1 - tree_2.predict(x_train_m)\n",
    "tree_3 = DecisionTreeRegressor(max_depth = 3)\n",
    "tree_3.fit(x_train_m, residual_2)"
   ]
  },
  {
   "cell_type": "code",
   "execution_count": 45,
   "id": "a67d1ca7",
   "metadata": {},
   "outputs": [
    {
     "name": "stdout",
     "output_type": "stream",
     "text": [
      "0.9299627437890501\n",
      "-6.497506350829348\n",
      "-6.699329521322307\n"
     ]
    }
   ],
   "source": [
    "print(tree_1.score(x_test_m,y_test_m))\n",
    "print(tree_2.score(x_test_m,y_test_m))\n",
    "print(tree_3.score(x_test_m,y_test_m))"
   ]
  },
  {
   "cell_type": "code",
   "execution_count": 46,
   "id": "277aa538",
   "metadata": {},
   "outputs": [
    {
     "data": {
      "text/html": [
       "<div>\n",
       "<style scoped>\n",
       "    .dataframe tbody tr th:only-of-type {\n",
       "        vertical-align: middle;\n",
       "    }\n",
       "\n",
       "    .dataframe tbody tr th {\n",
       "        vertical-align: top;\n",
       "    }\n",
       "\n",
       "    .dataframe thead th {\n",
       "        text-align: right;\n",
       "    }\n",
       "</style>\n",
       "<table border=\"1\" class=\"dataframe\">\n",
       "  <thead>\n",
       "    <tr style=\"text-align: right;\">\n",
       "      <th></th>\n",
       "      <th>y</th>\n",
       "      <th>tree_1</th>\n",
       "      <th>tree_2</th>\n",
       "      <th>tree_3</th>\n",
       "      <th>sum</th>\n",
       "    </tr>\n",
       "  </thead>\n",
       "  <tbody>\n",
       "    <tr>\n",
       "      <th>0</th>\n",
       "      <td>16.32</td>\n",
       "      <td>11.128421</td>\n",
       "      <td>0.015817</td>\n",
       "      <td>-0.056071</td>\n",
       "      <td>11.088167</td>\n",
       "    </tr>\n",
       "    <tr>\n",
       "      <th>1</th>\n",
       "      <td>13.80</td>\n",
       "      <td>14.872941</td>\n",
       "      <td>-1.559042</td>\n",
       "      <td>0.366630</td>\n",
       "      <td>13.680529</td>\n",
       "    </tr>\n",
       "    <tr>\n",
       "      <th>2</th>\n",
       "      <td>23.28</td>\n",
       "      <td>23.781818</td>\n",
       "      <td>0.015817</td>\n",
       "      <td>-0.206944</td>\n",
       "      <td>23.590691</td>\n",
       "    </tr>\n",
       "    <tr>\n",
       "      <th>3</th>\n",
       "      <td>26.04</td>\n",
       "      <td>28.174286</td>\n",
       "      <td>0.015817</td>\n",
       "      <td>-0.206944</td>\n",
       "      <td>27.983159</td>\n",
       "    </tr>\n",
       "    <tr>\n",
       "      <th>4</th>\n",
       "      <td>18.72</td>\n",
       "      <td>18.780000</td>\n",
       "      <td>0.015817</td>\n",
       "      <td>-0.811699</td>\n",
       "      <td>17.984118</td>\n",
       "    </tr>\n",
       "    <tr>\n",
       "      <th>5</th>\n",
       "      <td>11.64</td>\n",
       "      <td>11.128421</td>\n",
       "      <td>0.015817</td>\n",
       "      <td>-0.056071</td>\n",
       "      <td>11.088167</td>\n",
       "    </tr>\n",
       "    <tr>\n",
       "      <th>6</th>\n",
       "      <td>30.48</td>\n",
       "      <td>28.174286</td>\n",
       "      <td>2.480705</td>\n",
       "      <td>-0.206944</td>\n",
       "      <td>30.448047</td>\n",
       "    </tr>\n",
       "    <tr>\n",
       "      <th>7</th>\n",
       "      <td>31.44</td>\n",
       "      <td>28.174286</td>\n",
       "      <td>2.480705</td>\n",
       "      <td>-0.206944</td>\n",
       "      <td>30.448047</td>\n",
       "    </tr>\n",
       "    <tr>\n",
       "      <th>8</th>\n",
       "      <td>23.52</td>\n",
       "      <td>23.781818</td>\n",
       "      <td>0.015817</td>\n",
       "      <td>-0.206944</td>\n",
       "      <td>23.590691</td>\n",
       "    </tr>\n",
       "    <tr>\n",
       "      <th>9</th>\n",
       "      <td>19.08</td>\n",
       "      <td>18.435000</td>\n",
       "      <td>0.015817</td>\n",
       "      <td>2.424203</td>\n",
       "      <td>20.875019</td>\n",
       "    </tr>\n",
       "    <tr>\n",
       "      <th>10</th>\n",
       "      <td>9.60</td>\n",
       "      <td>7.165714</td>\n",
       "      <td>0.015817</td>\n",
       "      <td>-0.056071</td>\n",
       "      <td>7.125460</td>\n",
       "    </tr>\n",
       "    <tr>\n",
       "      <th>11</th>\n",
       "      <td>14.04</td>\n",
       "      <td>14.872941</td>\n",
       "      <td>0.015817</td>\n",
       "      <td>-0.811699</td>\n",
       "      <td>14.077059</td>\n",
       "    </tr>\n",
       "    <tr>\n",
       "      <th>12</th>\n",
       "      <td>11.40</td>\n",
       "      <td>13.265806</td>\n",
       "      <td>-1.559042</td>\n",
       "      <td>-0.056071</td>\n",
       "      <td>11.650693</td>\n",
       "    </tr>\n",
       "    <tr>\n",
       "      <th>13</th>\n",
       "      <td>7.92</td>\n",
       "      <td>7.165714</td>\n",
       "      <td>0.015817</td>\n",
       "      <td>-0.056071</td>\n",
       "      <td>7.125460</td>\n",
       "    </tr>\n",
       "    <tr>\n",
       "      <th>14</th>\n",
       "      <td>11.88</td>\n",
       "      <td>13.265806</td>\n",
       "      <td>0.015817</td>\n",
       "      <td>-0.056071</td>\n",
       "      <td>13.225552</td>\n",
       "    </tr>\n",
       "    <tr>\n",
       "      <th>15</th>\n",
       "      <td>13.92</td>\n",
       "      <td>14.872941</td>\n",
       "      <td>-1.559042</td>\n",
       "      <td>0.366630</td>\n",
       "      <td>13.680529</td>\n",
       "    </tr>\n",
       "    <tr>\n",
       "      <th>16</th>\n",
       "      <td>18.84</td>\n",
       "      <td>18.780000</td>\n",
       "      <td>0.015817</td>\n",
       "      <td>0.366630</td>\n",
       "      <td>19.162447</td>\n",
       "    </tr>\n",
       "    <tr>\n",
       "      <th>17</th>\n",
       "      <td>27.84</td>\n",
       "      <td>28.174286</td>\n",
       "      <td>0.015817</td>\n",
       "      <td>-0.206944</td>\n",
       "      <td>27.983159</td>\n",
       "    </tr>\n",
       "  </tbody>\n",
       "</table>\n",
       "</div>"
      ],
      "text/plain": [
       "        y     tree_1    tree_2    tree_3        sum\n",
       "0   16.32  11.128421  0.015817 -0.056071  11.088167\n",
       "1   13.80  14.872941 -1.559042  0.366630  13.680529\n",
       "2   23.28  23.781818  0.015817 -0.206944  23.590691\n",
       "3   26.04  28.174286  0.015817 -0.206944  27.983159\n",
       "4   18.72  18.780000  0.015817 -0.811699  17.984118\n",
       "5   11.64  11.128421  0.015817 -0.056071  11.088167\n",
       "6   30.48  28.174286  2.480705 -0.206944  30.448047\n",
       "7   31.44  28.174286  2.480705 -0.206944  30.448047\n",
       "8   23.52  23.781818  0.015817 -0.206944  23.590691\n",
       "9   19.08  18.435000  0.015817  2.424203  20.875019\n",
       "10   9.60   7.165714  0.015817 -0.056071   7.125460\n",
       "11  14.04  14.872941  0.015817 -0.811699  14.077059\n",
       "12  11.40  13.265806 -1.559042 -0.056071  11.650693\n",
       "13   7.92   7.165714  0.015817 -0.056071   7.125460\n",
       "14  11.88  13.265806  0.015817 -0.056071  13.225552\n",
       "15  13.92  14.872941 -1.559042  0.366630  13.680529\n",
       "16  18.84  18.780000  0.015817  0.366630  19.162447\n",
       "17  27.84  28.174286  0.015817 -0.206944  27.983159"
      ]
     },
     "execution_count": 46,
     "metadata": {},
     "output_type": "execute_result"
    }
   ],
   "source": [
    "pd.DataFrame({'y': y_test_m.values,\n",
    "'tree_1': tree_1.predict(x_test_m),\n",
    "'tree_2': tree_2.predict(x_test_m),\n",
    "'tree_3': tree_3.predict(x_test_m),\n",
    "'sum': sum([tree_1.predict(x_test_m),\n",
    "tree_2.predict(x_test_m),\n",
    "tree_3.predict(x_test_m)])})"
   ]
  },
  {
   "cell_type": "code",
   "execution_count": 47,
   "id": "4714a55a",
   "metadata": {},
   "outputs": [
    {
     "data": {
      "text/plain": [
       "0.9562253695569267"
      ]
     },
     "execution_count": 47,
     "metadata": {},
     "output_type": "execute_result"
    }
   ],
   "source": [
    "from sklearn.ensemble import GradientBoostingRegressor\n",
    "gbrt = GradientBoostingRegressor(\n",
    "    max_depth=3,\n",
    "    n_estimators=3,\n",
    "    learning_rate=0.5\n",
    ")\n",
    "\n",
    "gbrt.fit(x_train_m,y_train_m)\n",
    "gbrt.score(x_test_m,y_test_m)"
   ]
  },
  {
   "cell_type": "code",
   "execution_count": null,
   "id": "ff013725",
   "metadata": {},
   "outputs": [],
   "source": []
  }
 ],
 "metadata": {
  "kernelspec": {
   "display_name": "Python 3 (ipykernel)",
   "language": "python",
   "name": "python3"
  },
  "language_info": {
   "codemirror_mode": {
    "name": "ipython",
    "version": 3
   },
   "file_extension": ".py",
   "mimetype": "text/x-python",
   "name": "python",
   "nbconvert_exporter": "python",
   "pygments_lexer": "ipython3",
   "version": "3.9.7"
  }
 },
 "nbformat": 4,
 "nbformat_minor": 5
}
